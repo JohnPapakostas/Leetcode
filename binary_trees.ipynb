{
 "cells": [
  {
   "cell_type": "markdown",
   "metadata": {},
   "source": [
    "### Binary Trees Theory"
   ]
  },
  {
   "cell_type": "code",
   "execution_count": 23,
   "metadata": {},
   "outputs": [],
   "source": [
    "class TreeNode:\n",
    "    def __init__(self, val, left=None, right=None):\n",
    "        self.val = val \n",
    "        self.left = left\n",
    "        self.right = right\n",
    "\n",
    "    def __str__(self):\n",
    "        return str(self.val)          "
   ]
  },
  {
   "cell_type": "code",
   "execution_count": null,
   "metadata": {},
   "outputs": [
    {
     "name": "stdout",
     "output_type": "stream",
     "text": [
      "1\n"
     ]
    }
   ],
   "source": [
    "A = TreeNode(1)\n",
    "B = TreeNode(2)\n",
    "C = TreeNode(3)\n",
    "D = TreeNode(4)\n",
    "E = TreeNode(5)\n",
    "F = TreeNode(10)\n",
    "\n",
    "A.left = B\n",
    "A.right = C\n",
    "B.left = D\n",
    "B.right = E\n",
    "C.left = F\n",
    "\n",
    "print(A)"
   ]
  },
  {
   "cell_type": "markdown",
   "metadata": {},
   "source": [
    "### Recursive Pre Order Traversal (DFS): Time O(n), Space: O(n)\n"
   ]
  },
  {
   "cell_type": "code",
   "execution_count": null,
   "metadata": {},
   "outputs": [
    {
     "name": "stdout",
     "output_type": "stream",
     "text": [
      "1\n",
      "2\n",
      "4\n",
      "5\n",
      "3\n",
      "10\n"
     ]
    }
   ],
   "source": [
    "def pre_order(node):\n",
    "    if not node:\n",
    "        return\n",
    "    print(node)\n",
    "    pre_order(node.left)\n",
    "    pre_order(node.right)\n",
    "    return\n",
    "\n",
    "pre_order(A)"
   ]
  },
  {
   "cell_type": "markdown",
   "metadata": {},
   "source": [
    "### Recursive In Order Traversal (DFS): Time O(n), Space: O(n)"
   ]
  },
  {
   "cell_type": "code",
   "execution_count": null,
   "metadata": {},
   "outputs": [
    {
     "name": "stdout",
     "output_type": "stream",
     "text": [
      "4\n",
      "2\n",
      "5\n",
      "1\n",
      "10\n",
      "3\n"
     ]
    }
   ],
   "source": [
    "def in_order(node):\n",
    "    if not node:\n",
    "        return\n",
    "    in_order(node.left)\n",
    "    print(node)\n",
    "    in_order(node.right)\n",
    "    return\n",
    "\n",
    "in_order(A)"
   ]
  },
  {
   "cell_type": "markdown",
   "metadata": {},
   "source": [
    "### Recursive Post Order Traversal (DFS): Time O(n), Space: O(n)"
   ]
  },
  {
   "cell_type": "code",
   "execution_count": null,
   "metadata": {},
   "outputs": [
    {
     "name": "stdout",
     "output_type": "stream",
     "text": [
      "4\n",
      "5\n",
      "2\n",
      "10\n",
      "3\n",
      "1\n"
     ]
    }
   ],
   "source": [
    "\n",
    "def post_order(node):\n",
    "    if not node:\n",
    "        return\n",
    "    post_order(node.left)\n",
    "    post_order(node.right)\n",
    "    print(node)\n",
    "    return\n",
    "\n",
    "post_order(A)"
   ]
  },
  {
   "cell_type": "markdown",
   "metadata": {},
   "source": [
    "### Iterative Pre Order Traversal (DFS): Time O(n), Space: O(n)"
   ]
  },
  {
   "cell_type": "code",
   "execution_count": null,
   "metadata": {},
   "outputs": [
    {
     "name": "stdout",
     "output_type": "stream",
     "text": [
      "1\n",
      "2\n",
      "4\n",
      "5\n",
      "3\n",
      "10\n"
     ]
    }
   ],
   "source": [
    "def pre_order_iterative(node):\n",
    "    stack = [node]\n",
    "    \n",
    "    while stack:\n",
    "        cur_node = stack.pop()\n",
    "        print(cur_node)\n",
    "        if cur_node.right:\n",
    "            stack.append(cur_node.right)\n",
    "        if cur_node.left:\n",
    "            stack.append(cur_node.left)\n",
    "\n",
    "    return\n",
    "\n",
    "pre_order_iterative(A)"
   ]
  },
  {
   "cell_type": "markdown",
   "metadata": {},
   "source": [
    "### Level Order Traversal (BFS) Time: O(n), Space: O(n)"
   ]
  },
  {
   "cell_type": "code",
   "execution_count": null,
   "metadata": {},
   "outputs": [
    {
     "name": "stdout",
     "output_type": "stream",
     "text": [
      "1\n",
      "2\n",
      "3\n",
      "4\n",
      "5\n",
      "10\n"
     ]
    }
   ],
   "source": [
    "from collections import deque\n",
    "\n",
    "def level_order(node):\n",
    "    q = deque()\n",
    "    q.append(node)\n",
    "\n",
    "    while q:\n",
    "        cur_node = q.popleft()\n",
    "        print(cur_node)\n",
    "        \n",
    "        if cur_node.left: q.append(cur_node.left)\n",
    "        if cur_node.right: q.append(cur_node.right)\n",
    "\n",
    "level_order(A)        "
   ]
  },
  {
   "cell_type": "markdown",
   "metadata": {},
   "source": [
    "### Check if Value Exists (DFS) Time: O(n), Space: O(n)"
   ]
  },
  {
   "cell_type": "code",
   "execution_count": null,
   "metadata": {},
   "outputs": [
    {
     "data": {
      "text/plain": [
       "False"
      ]
     },
     "execution_count": 30,
     "metadata": {},
     "output_type": "execute_result"
    }
   ],
   "source": [
    "def search(node, target):\n",
    "    \n",
    "    if not node:\n",
    "        return False\n",
    "    \n",
    "    if node.val == target:\n",
    "        return True\n",
    "    \n",
    "    return search(node.left, target) or search(node.right, target)\n",
    "\n",
    "search(node=A, target=6)"
   ]
  },
  {
   "cell_type": "code",
   "execution_count": 33,
   "metadata": {},
   "outputs": [
    {
     "data": {
      "text/plain": [
       "True"
      ]
     },
     "execution_count": 33,
     "metadata": {},
     "output_type": "execute_result"
    }
   ],
   "source": [
    "def search_bst(node, target):\n",
    "    if not node:\n",
    "        return False\n",
    "    \n",
    "    if node.val == target:\n",
    "        return True\n",
    "    \n",
    "    elif node.val < target:\n",
    "        return search_bst(node.right, target)\n",
    "\n",
    "    else:\n",
    "        return search_bst(node.left, target) \n",
    "\n",
    "search_bst(A2, 9)     "
   ]
  },
  {
   "cell_type": "markdown",
   "metadata": {},
   "source": [
    "### Leetcode Problems"
   ]
  },
  {
   "cell_type": "markdown",
   "metadata": {},
   "source": [
    "### Invert Binary Tree"
   ]
  },
  {
   "cell_type": "code",
   "execution_count": null,
   "metadata": {},
   "outputs": [],
   "source": [
    "# Definition for a binary tree node.\n",
    "# class TreeNode:\n",
    "#     def __init__(self, val=0, left=None, right=None):\n",
    "#         self.val = val\n",
    "#         self.left = left\n",
    "#         self.right = right\n",
    "class Solution:\n",
    "    def invertTree(self, root: Optional[TreeNode]) -> Optional[TreeNode]:\n",
    "        if not root:\n",
    "            return None\n",
    "        \n",
    "        root.left, root.right = root.right, root.left\n",
    "\n",
    "        self.invertTree(root.left)\n",
    "        self.invertTree(root.right)\n",
    "\n",
    "        return root"
   ]
  },
  {
   "cell_type": "markdown",
   "metadata": {},
   "source": [
    "### Maximum Depth of Binary Tree"
   ]
  },
  {
   "cell_type": "code",
   "execution_count": null,
   "metadata": {},
   "outputs": [
    {
     "data": {
      "text/plain": [
       "3"
      ]
     },
     "execution_count": 36,
     "metadata": {},
     "output_type": "execute_result"
    }
   ],
   "source": [
    "# Definition for a binary tree node.\n",
    "# class TreeNode:\n",
    "#     def __init__(self, val=0, left=None, right=None):\n",
    "#         self.val = val\n",
    "#         self.left = left\n",
    "#         self.right = right\n",
    "class Solution:\n",
    "    def maxDepth(self, root: Optional[TreeNode]) -> int:\n",
    "        if not root:\n",
    "            return 0\n",
    "    \n",
    "        return max(self.maxDepth(root.left), self.maxDepth(root.right)) + 1"
   ]
  },
  {
   "cell_type": "markdown",
   "metadata": {},
   "source": [
    "### Balanced Binary Tree"
   ]
  },
  {
   "cell_type": "code",
   "execution_count": null,
   "metadata": {},
   "outputs": [
    {
     "data": {
      "text/plain": [
       "True"
      ]
     },
     "execution_count": 37,
     "metadata": {},
     "output_type": "execute_result"
    }
   ],
   "source": [
    "# Definition for a binary tree node.\n",
    "# class TreeNode:\n",
    "#     def __init__(self, val=0, left=None, right=None):\n",
    "#         self.val = val\n",
    "#         self.left = left\n",
    "#         self.right = right\n",
    "class Solution:\n",
    "    def isBalanced(self, root: Optional[TreeNode]) -> bool:\n",
    "        is_Balanced = [True]\n",
    "\n",
    "        def height(root):\n",
    "            if not root:\n",
    "                return 0\n",
    "        \n",
    "            left_height = height(root.left)\n",
    "        \n",
    "            if not is_Balanced[0]:\n",
    "                return 0\n",
    "            \n",
    "            right_height = height(root.right)\n",
    "\n",
    "            if not is_Balanced[0]:\n",
    "                return 0\n",
    "        \n",
    "            if abs(left_height - right_height) > 1:\n",
    "                is_Balanced[0] = False\n",
    "                return 0\n",
    "        \n",
    "            return 1 + max(left_height, right_height)\n",
    "     \n",
    "        height(root)\n",
    "\n",
    "        return is_Balanced[0]"
   ]
  },
  {
   "cell_type": "markdown",
   "metadata": {},
   "source": [
    "### Diameter of Binary Tree"
   ]
  },
  {
   "cell_type": "code",
   "execution_count": null,
   "metadata": {},
   "outputs": [
    {
     "data": {
      "text/plain": [
       "4"
      ]
     },
     "execution_count": 38,
     "metadata": {},
     "output_type": "execute_result"
    }
   ],
   "source": [
    "# Definition for a binary tree node.\n",
    "# class TreeNode:\n",
    "#     def __init__(self, val=0, left=None, right=None):\n",
    "#         self.val = val\n",
    "#         self.left = left\n",
    "#         self.right = right\n",
    "class Solution:\n",
    "    def diameterOfBinaryTree(self, root: Optional[TreeNode]) -> int:\n",
    "        max_d = [0]\n",
    "        def height(root):\n",
    "            if not root:\n",
    "                return 0\n",
    "        \n",
    "            left_height = height(root.left)        \n",
    "            right_height = height(root.right)\n",
    "\n",
    "            max_d[0] = max(left_height + right_height, max_d[0])\n",
    "            \n",
    "            return 1 + (max(left_height, right_height))\n",
    "        \n",
    "        height(root)\n",
    "\n",
    "        return max_d[0]"
   ]
  },
  {
   "cell_type": "markdown",
   "metadata": {},
   "source": [
    "### Same Binary Tree"
   ]
  },
  {
   "cell_type": "code",
   "execution_count": null,
   "metadata": {},
   "outputs": [],
   "source": [
    "# Definition for a binary tree node.\n",
    "# class TreeNode:\n",
    "#     def __init__(self, val=0, left=None, right=None):\n",
    "#         self.val = val\n",
    "#         self.left = left\n",
    "#         self.right = right\n",
    "class Solution:\n",
    "    def isSameTree(self, p: Optional[TreeNode], q: Optional[TreeNode]) -> bool:\n",
    "        \n",
    "        def check(root1, root2):\n",
    "            if not root1 and not root2:\n",
    "                return True\n",
    "            \n",
    "            if (not root1 and root2) or (root1 and not root2) or (root1.val != root2.val):\n",
    "                return False\n",
    "            \n",
    "            return check(root1.left, root2.left) and check(root1.right, root2.right)\n",
    "\n",
    "        return check(p, q)"
   ]
  },
  {
   "cell_type": "markdown",
   "metadata": {},
   "source": [
    "### Symmetric Tree"
   ]
  },
  {
   "cell_type": "code",
   "execution_count": null,
   "metadata": {},
   "outputs": [],
   "source": [
    "# Definition for a binary tree node.\n",
    "# class TreeNode:\n",
    "#     def __init__(self, val=0, left=None, right=None):\n",
    "#         self.val = val\n",
    "#         self.left = left\n",
    "#         self.right = right\n",
    "class Solution:\n",
    "    def isSymmetric(self, root: Optional[TreeNode]) -> bool:\n",
    "        def check(root1, root2):\n",
    "            if not root1 and not root2:\n",
    "                return True\n",
    "        \n",
    "            if (not root1 or not root2) or (root1.val != root2.val):\n",
    "                return False\n",
    "        \n",
    "            return check(root1.left, root2.right) and check(root1.right, root2.left)\n",
    "\n",
    "        return check(root, root)        "
   ]
  },
  {
   "cell_type": "markdown",
   "metadata": {},
   "source": [
    "### Path Sum"
   ]
  },
  {
   "cell_type": "code",
   "execution_count": null,
   "metadata": {},
   "outputs": [],
   "source": [
    "# Definition for a binary tree node.\n",
    "# class TreeNode:\n",
    "#     def __init__(self, val=0, left=None, right=None):\n",
    "#         self.val = val\n",
    "#         self.left = left\n",
    "#         self.right = right\n",
    "class Solution:\n",
    "    def hasPathSum(self, root: Optional[TreeNode], targetSum: int) -> bool:\n",
    "        def has_sum(root, cur_sum):\n",
    "            if not root:\n",
    "                return False\n",
    "\n",
    "            cur_sum += root.val\n",
    "        \n",
    "            if not root.left and not root.right:\n",
    "                return cur_sum == targetSum\n",
    "        \n",
    "            return has_sum(root.left, cur_sum) or has_sum(root.right, cur_sum) \n",
    "\n",
    "        return has_sum(root, 0)        "
   ]
  },
  {
   "cell_type": "markdown",
   "metadata": {},
   "source": [
    "### Subtree of Another Tree"
   ]
  },
  {
   "cell_type": "code",
   "execution_count": null,
   "metadata": {},
   "outputs": [],
   "source": [
    "# Definition for a binary tree node.\n",
    "# class TreeNode:\n",
    "#     def __init__(self, val=0, left=None, right=None):\n",
    "#         self.val = val\n",
    "#         self.left = left\n",
    "#         self.right = right\n",
    "class Solution:\n",
    "    def isSubtree(self, root: Optional[TreeNode], subRoot: Optional[TreeNode]) -> bool:\n",
    "        def same_tree(root1, root2):\n",
    "            if not root1 and not root2:\n",
    "                return True\n",
    "            \n",
    "            if (not root1 or not root2) or (root1.val != root2.val):\n",
    "                return False\n",
    "            \n",
    "            return same_tree(root1.left, root2.left) and same_tree(root1.right, root2.right)\n",
    "\n",
    "        def has_subtree(root):\n",
    "            if not root:\n",
    "                return False\n",
    "\n",
    "            if same_tree(root, subRoot):\n",
    "                return True\n",
    "            else:\n",
    "                return has_subtree(root.left) or has_subtree(root.right) \n",
    "\n",
    "        return has_subtree(root)"
   ]
  },
  {
   "cell_type": "markdown",
   "metadata": {},
   "source": [
    "### Binary Tree Level Order Traversal"
   ]
  },
  {
   "cell_type": "code",
   "execution_count": null,
   "metadata": {},
   "outputs": [],
   "source": [
    "# Definition for a binary tree node.\n",
    "# class TreeNode:\n",
    "#     def __init__(self, val=0, left=None, right=None):\n",
    "#         self.val = val\n",
    "#         self.left = left\n",
    "#         self.right = right\n",
    "class Solution:\n",
    "    def levelOrder(self, root: Optional[TreeNode]) -> List[List[int]]:\n",
    "        to_return = []\n",
    "\n",
    "        if root is None:\n",
    "            return to_return\n",
    "        \n",
    "        q = deque()\n",
    "        \n",
    "        q.append(root)\n",
    "        while q:\n",
    "            level = []\n",
    "            n = len(q)\n",
    "            for i in range(n):\n",
    "                node = q.popleft()\n",
    "\n",
    "                level.append(node.val)\n",
    "                if node.left: q.append(node.left)\n",
    "                if node.right: q.append(node.right)\n",
    "        \n",
    "            to_return.append(level)           \n",
    "        \n",
    "        return to_return"
   ]
  },
  {
   "cell_type": "markdown",
   "metadata": {},
   "source": [
    "### Kth Smallest Element in a BST"
   ]
  },
  {
   "cell_type": "code",
   "execution_count": null,
   "metadata": {},
   "outputs": [],
   "source": [
    "# Definition for a binary tree node.\n",
    "# class TreeNode:\n",
    "#     def __init__(self, val=0, left=None, right=None):\n",
    "#         self.val = val\n",
    "#         self.left = left\n",
    "#         self.right = right\n",
    "class Solution:\n",
    "    def kthSmallest(self, root: Optional[TreeNode], k: int) -> int:\n",
    "        i = [0]\n",
    "\n",
    "        def in_order_traversal(root):\n",
    "            if not root:\n",
    "                return -1\n",
    "            \n",
    "            left = in_order_traversal(root.left)\n",
    "\n",
    "            if left != -1:\n",
    "                return left\n",
    "            \n",
    "            i[0] += 1\n",
    "            if k == i[0]:\n",
    "                return root.val\n",
    "            \n",
    "            return in_order_traversal(root.right)\n",
    "\n",
    "        return in_order_traversal(root)"
   ]
  },
  {
   "cell_type": "markdown",
   "metadata": {},
   "source": [
    "### Minimum Absolute Difference in BST"
   ]
  },
  {
   "cell_type": "code",
   "execution_count": null,
   "metadata": {},
   "outputs": [],
   "source": [
    "# Definition for a binary tree node.\n",
    "# class TreeNode:\n",
    "#     def __init__(self, val=0, left=None, right=None):\n",
    "#         self.val = val\n",
    "#         self.left = left\n",
    "#         self.right = right\n",
    "class Solution:\n",
    "    def getMinimumDifference(self, root: Optional[TreeNode]) -> int:\n",
    "        found_element = [-1]\n",
    "        min_dif = [100001]\n",
    "\n",
    "        def in_order_traversal(root):\n",
    "            if not root:\n",
    "                return\n",
    "            \n",
    "            in_order_traversal(root.left)\n",
    "\n",
    "            if found_element[0] != -1:\n",
    "                min_dif[0] = min(root.val - found_element[-1], min_dif[0]) \n",
    "\n",
    "            found_element[0] = root.val\n",
    "\n",
    "            in_order_traversal(root.right)\n",
    "\n",
    "            return min_dif[0]\n",
    "\n",
    "        return in_order_traversal(root)"
   ]
  },
  {
   "cell_type": "markdown",
   "metadata": {},
   "source": [
    "### Validate Binary Search Tree"
   ]
  },
  {
   "cell_type": "code",
   "execution_count": null,
   "metadata": {},
   "outputs": [],
   "source": [
    "# Definition for a binary tree node.\n",
    "# class TreeNode:\n",
    "#     def __init__(self, val=0, left=None, right=None):\n",
    "#         self.val = val\n",
    "#         self.left = left\n",
    "#         self.right = right\n",
    "class Solution:\n",
    "    def isValidBST(self, root: Optional[TreeNode]) -> bool:\n",
    "        def is_valid(node, minn, maxx):\n",
    "            if not node:\n",
    "                return True\n",
    "            \n",
    "            if node.val <= minn or node.val >= maxx:\n",
    "                return False\n",
    "            \n",
    "            return is_valid(node.left, minn, node.val) and is_valid(node.right, node.val, maxx)\n",
    "        \n",
    "        return is_valid(root, float('-inf'), float('inf'))"
   ]
  },
  {
   "cell_type": "markdown",
   "metadata": {},
   "source": [
    "### Lowest Common Ancestor of a Binary Search Tree"
   ]
  },
  {
   "cell_type": "code",
   "execution_count": null,
   "metadata": {},
   "outputs": [],
   "source": [
    "# Definition for a binary tree node.\n",
    "# class TreeNode:\n",
    "#     def __init__(self, x):\n",
    "#         self.val = x\n",
    "#         self.left = None\n",
    "#         self.right = None\n",
    "\n",
    "class Solution:\n",
    "    def lowestCommonAncestor(self, root: 'TreeNode', p: 'TreeNode', q: 'TreeNode') -> 'TreeNode':\n",
    "        lca = root\n",
    "\n",
    "        if (lca.val > p.val) and (lca.val > q.val):\n",
    "            lca = self.lowestCommonAncestor(root.left, p, q)\n",
    "\n",
    "        elif (lca.val < p.val) and (lca.val < q.val):\n",
    "            lca = self.lowestCommonAncestor(root.right, p, q)\n",
    "        \n",
    "        return lca"
   ]
  },
  {
   "cell_type": "markdown",
   "metadata": {},
   "source": [
    "### Implement Trie (Prefix Tree)"
   ]
  },
  {
   "cell_type": "code",
   "execution_count": null,
   "metadata": {},
   "outputs": [],
   "source": [
    "class Trie:\n",
    "\n",
    "    def __init__(self):\n",
    "        self.trie = {}\n",
    "\n",
    "    def insert(self, word: str) -> None:\n",
    "        d = self.trie\n",
    "\n",
    "        for c in word:\n",
    "            if c not in d:\n",
    "                d[c] = {}\n",
    "            d = d[c]\n",
    "\n",
    "        d['.'] = '.'        \n",
    "\n",
    "    def search(self, word: str) -> bool:\n",
    "        d = self.trie\n",
    "        \n",
    "        for c in word:\n",
    "            if c not in d:\n",
    "                return False\n",
    "            d = d[c]\n",
    "\n",
    "        return '.' in d         \n",
    "\n",
    "\n",
    "    def startsWith(self, prefix: str) -> bool:\n",
    "        d = self.trie\n",
    "        \n",
    "        for c in prefix:\n",
    "            if c not in d:\n",
    "                return False\n",
    "            d = d[c]\n",
    "        \n",
    "        return True  \n",
    "\n",
    "\n",
    "# Your Trie object will be instantiated and called as such:\n",
    "# obj = Trie()\n",
    "# obj.insert(word)\n",
    "# param_2 = obj.search(word)\n",
    "# param_3 = obj.startsWith(prefix)"
   ]
  }
 ],
 "metadata": {
  "kernelspec": {
   "display_name": "Python 3",
   "language": "python",
   "name": "python3"
  },
  "language_info": {
   "codemirror_mode": {
    "name": "ipython",
    "version": 3
   },
   "file_extension": ".py",
   "mimetype": "text/x-python",
   "name": "python",
   "nbconvert_exporter": "python",
   "pygments_lexer": "ipython3",
   "version": "3.12.8"
  }
 },
 "nbformat": 4,
 "nbformat_minor": 2
}
