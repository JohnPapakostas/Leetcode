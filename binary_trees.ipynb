{
 "cells": [
  {
   "cell_type": "markdown",
   "metadata": {},
   "source": [
    "### BINARY TREES THEORY"
   ]
  },
  {
   "cell_type": "code",
   "execution_count": 23,
   "metadata": {},
   "outputs": [],
   "source": [
    "class TreeNode:\n",
    "    def __init__(self, val, left=None, right=None):\n",
    "        self.val = val \n",
    "        self.left = left\n",
    "        self.right = right\n",
    "\n",
    "    def __str__(self):\n",
    "        return str(self.val)          "
   ]
  },
  {
   "cell_type": "code",
   "execution_count": 24,
   "metadata": {},
   "outputs": [
    {
     "name": "stdout",
     "output_type": "stream",
     "text": [
      "1\n"
     ]
    }
   ],
   "source": [
    "A = TreeNode(1)\n",
    "B = TreeNode(2)\n",
    "C = TreeNode(3)\n",
    "D = TreeNode(4)\n",
    "E = TreeNode(5)\n",
    "F = TreeNode(10)\n",
    "\n",
    "A.left = B\n",
    "A.right = C\n",
    "B.left = D\n",
    "B.right = E\n",
    "C.left = F\n",
    "\n",
    "print(A)\n"
   ]
  },
  {
   "cell_type": "code",
   "execution_count": 25,
   "metadata": {},
   "outputs": [
    {
     "name": "stdout",
     "output_type": "stream",
     "text": [
      "1\n",
      "2\n",
      "4\n",
      "5\n",
      "3\n",
      "10\n"
     ]
    }
   ],
   "source": [
    "# Recursive Pre Order Traversal (DFS): Time O(n), Space: O(n)\n",
    "\n",
    "def pre_order(node):\n",
    "    if not node:\n",
    "        return\n",
    "    print(node)\n",
    "    pre_order(node.left)\n",
    "    pre_order(node.right)\n",
    "    return\n",
    "\n",
    "pre_order(A)"
   ]
  },
  {
   "cell_type": "code",
   "execution_count": 26,
   "metadata": {},
   "outputs": [
    {
     "name": "stdout",
     "output_type": "stream",
     "text": [
      "4\n",
      "2\n",
      "5\n",
      "1\n",
      "10\n",
      "3\n"
     ]
    }
   ],
   "source": [
    "# Recursive In Order Traversal (DFS): Time O(n), Space: O(n)\n",
    "\n",
    "def in_order(node):\n",
    "    if not node:\n",
    "        return\n",
    "    in_order(node.left)\n",
    "    print(node)\n",
    "    in_order(node.right)\n",
    "    return\n",
    "\n",
    "in_order(A)"
   ]
  },
  {
   "cell_type": "code",
   "execution_count": 27,
   "metadata": {},
   "outputs": [
    {
     "name": "stdout",
     "output_type": "stream",
     "text": [
      "4\n",
      "5\n",
      "2\n",
      "10\n",
      "3\n",
      "1\n"
     ]
    }
   ],
   "source": [
    "# Recursive Post Order Traversal (DFS): Time O(n), Space: O(n)\n",
    "\n",
    "def post_order(node):\n",
    "    if not node:\n",
    "        return\n",
    "    post_order(node.left)\n",
    "    post_order(node.right)\n",
    "    print(node)\n",
    "    return\n",
    "\n",
    "post_order(A)"
   ]
  },
  {
   "cell_type": "code",
   "execution_count": 28,
   "metadata": {},
   "outputs": [
    {
     "name": "stdout",
     "output_type": "stream",
     "text": [
      "1\n",
      "2\n",
      "4\n",
      "5\n",
      "3\n",
      "10\n"
     ]
    }
   ],
   "source": [
    "# Iterative Pre Order Traversal (DFS): Time O(n), Space: O(n)\n",
    "\n",
    "def pre_order_iterative(node):\n",
    "    stack = [node]\n",
    "    \n",
    "    while stack:\n",
    "        cur_node = stack.pop()\n",
    "        print(cur_node)\n",
    "        if cur_node.right:\n",
    "            stack.append(cur_node.right)\n",
    "        if cur_node.left:\n",
    "            stack.append(cur_node.left)\n",
    "\n",
    "    return\n",
    "\n",
    "pre_order_iterative(A)"
   ]
  },
  {
   "cell_type": "code",
   "execution_count": 29,
   "metadata": {},
   "outputs": [
    {
     "name": "stdout",
     "output_type": "stream",
     "text": [
      "1\n",
      "2\n",
      "3\n",
      "4\n",
      "5\n",
      "10\n"
     ]
    }
   ],
   "source": [
    "# Level Order Traversal (BFS) Time: O(n), Space: O(n)\n",
    "from collections import deque\n",
    "\n",
    "def level_order(node):\n",
    "    q = deque()\n",
    "    q.append(node)\n",
    "\n",
    "    while q:\n",
    "        cur_node = q.popleft()\n",
    "        print(cur_node)\n",
    "        \n",
    "        if cur_node.left: q.append(cur_node.left)\n",
    "        if cur_node.right: q.append(cur_node.right)\n",
    "\n",
    "level_order(A)        "
   ]
  },
  {
   "cell_type": "code",
   "execution_count": 30,
   "metadata": {},
   "outputs": [
    {
     "data": {
      "text/plain": [
       "False"
      ]
     },
     "execution_count": 30,
     "metadata": {},
     "output_type": "execute_result"
    }
   ],
   "source": [
    "# Check if Value Exists (DFS) Time: O(n), Space: O(n)\n",
    "def search(node, target):\n",
    "    \n",
    "    if not node:\n",
    "        return False\n",
    "    \n",
    "    if node.val == target:\n",
    "        return True\n",
    "    \n",
    "    return search(node.left, target) or search(node.right, target)\n",
    "\n",
    "search(node=A, target=6)"
   ]
  },
  {
   "cell_type": "code",
   "execution_count": 31,
   "metadata": {},
   "outputs": [
    {
     "name": "stdout",
     "output_type": "stream",
     "text": [
      "5\n"
     ]
    }
   ],
   "source": [
    "# Binary Search Trees (BSTs)\n",
    "\n",
    "A2 = TreeNode(5)\n",
    "B2 = TreeNode(1)\n",
    "C2 = TreeNode(8)\n",
    "D2 = TreeNode(-1)\n",
    "E2 = TreeNode(3)\n",
    "F2 = TreeNode(7)\n",
    "G2 = TreeNode(9)\n",
    "\n",
    "A2.left = B2\n",
    "A2.right = C2\n",
    "\n",
    "B2.left = D2\n",
    "B2.right = E2\n",
    "\n",
    "C2.left = F2\n",
    "C2.right = G2\n",
    "\n",
    "print(A2)"
   ]
  },
  {
   "cell_type": "code",
   "execution_count": 32,
   "metadata": {},
   "outputs": [
    {
     "name": "stdout",
     "output_type": "stream",
     "text": [
      "-1\n",
      "1\n",
      "3\n",
      "5\n",
      "7\n",
      "8\n",
      "9\n"
     ]
    }
   ],
   "source": [
    "in_order(A2)"
   ]
  },
  {
   "cell_type": "code",
   "execution_count": 33,
   "metadata": {},
   "outputs": [
    {
     "data": {
      "text/plain": [
       "True"
      ]
     },
     "execution_count": 33,
     "metadata": {},
     "output_type": "execute_result"
    }
   ],
   "source": [
    "def search_bst(node, target):\n",
    "    if not node:\n",
    "        return False\n",
    "    \n",
    "    if node.val == target:\n",
    "        return True\n",
    "    \n",
    "    elif node.val < target:\n",
    "        return search_bst(node.right, target)\n",
    "\n",
    "    else:\n",
    "        return search_bst(node.left, target) \n",
    "\n",
    "search_bst(A2, 9)     "
   ]
  },
  {
   "cell_type": "markdown",
   "metadata": {},
   "source": [
    "### LEETCODE PROBLEMS"
   ]
  },
  {
   "cell_type": "markdown",
   "metadata": {},
   "source": [
    "### INVERT BINARY TREE"
   ]
  },
  {
   "cell_type": "code",
   "execution_count": 34,
   "metadata": {},
   "outputs": [],
   "source": [
    "def invert_binary_tree(root):\n",
    "    if not root:\n",
    "        return None\n",
    "    \n",
    "    root.left, root.right = root.right, root.left\n",
    "\n",
    "    invert_binary_tree(root.left)\n",
    "    invert_binary_tree(root.right)\n",
    "\n",
    "    return root\n"
   ]
  },
  {
   "cell_type": "code",
   "execution_count": 35,
   "metadata": {},
   "outputs": [
    {
     "name": "stdout",
     "output_type": "stream",
     "text": [
      "4\n"
     ]
    }
   ],
   "source": [
    "A3 = TreeNode(4)\n",
    "B3 = TreeNode(2)\n",
    "C3 = TreeNode(7)\n",
    "D3 = TreeNode(1)\n",
    "E3 = TreeNode(3)\n",
    "F3 = TreeNode(6)\n",
    "G3 = TreeNode(9)\n",
    "\n",
    "A3.left = B3\n",
    "A3.right = C3\n",
    "\n",
    "B3.left = D3\n",
    "B3.right = E3\n",
    "\n",
    "C3.left = F3\n",
    "C3.right = G3\n",
    "\n",
    "new_root = invert_binary_tree(root=A3)\n",
    "print(new_root)"
   ]
  },
  {
   "cell_type": "markdown",
   "metadata": {},
   "source": [
    "### FIND MAXIMUM DEPTH"
   ]
  },
  {
   "cell_type": "code",
   "execution_count": 36,
   "metadata": {},
   "outputs": [
    {
     "data": {
      "text/plain": [
       "3"
      ]
     },
     "execution_count": 36,
     "metadata": {},
     "output_type": "execute_result"
    }
   ],
   "source": [
    "def find_max_depth(root):\n",
    "    if not root:\n",
    "        return 0\n",
    "    \n",
    "    return max(find_max_depth(root.left), find_max_depth(root.right)) + 1\n",
    "\n",
    "find_max_depth(root=A3)"
   ]
  },
  {
   "cell_type": "markdown",
   "metadata": {},
   "source": [
    "### IS BALANCED BINARY TREE"
   ]
  },
  {
   "cell_type": "code",
   "execution_count": 37,
   "metadata": {},
   "outputs": [
    {
     "data": {
      "text/plain": [
       "True"
      ]
     },
     "execution_count": 37,
     "metadata": {},
     "output_type": "execute_result"
    }
   ],
   "source": [
    "def is_balanced_binary_tree(root):\n",
    "    is_Balanced = [True]\n",
    "\n",
    "    def height(root):\n",
    "        if not root:\n",
    "            return 0\n",
    "    \n",
    "        left_height = height(root.left)\n",
    "    \n",
    "        if not is_Balanced[0]:\n",
    "            return 0\n",
    "        \n",
    "        right_height = height(root.right)\n",
    "\n",
    "        if not is_Balanced[0]:\n",
    "            return 0\n",
    "    \n",
    "        if abs(left_height - right_height) > 1:\n",
    "            is_Balanced[0] = False\n",
    "            return 0\n",
    "    \n",
    "        return 1 + max(left_height, right_height)\n",
    "    \n",
    "    height(root)\n",
    "\n",
    "    return is_Balanced[0]\n",
    "\n",
    "is_balanced_binary_tree(A3)\n"
   ]
  },
  {
   "cell_type": "markdown",
   "metadata": {},
   "source": [
    "### MAXIMUM DIAMETER OF BINARY TREE"
   ]
  },
  {
   "cell_type": "code",
   "execution_count": 38,
   "metadata": {},
   "outputs": [
    {
     "data": {
      "text/plain": [
       "4"
      ]
     },
     "execution_count": 38,
     "metadata": {},
     "output_type": "execute_result"
    }
   ],
   "source": [
    "def max_diameter(root):\n",
    "    max_d = [0]\n",
    "\n",
    "    def height(root):\n",
    "        if not root:\n",
    "            return 0\n",
    "    \n",
    "        left_height = height(root.left)        \n",
    "        right_height = height(root.right)\n",
    "\n",
    "        max_d[0] = max(left_height + right_height, max_d[0])\n",
    "        \n",
    "        return 1 + (max(left_height, right_height))\n",
    "\n",
    "    height(root)\n",
    "\n",
    "    return max_d[0]\n",
    "\n",
    "max_diameter(A3)\n"
   ]
  },
  {
   "cell_type": "markdown",
   "metadata": {},
   "source": [
    "### SAME BINARY TREES"
   ]
  },
  {
   "cell_type": "code",
   "execution_count": 39,
   "metadata": {},
   "outputs": [],
   "source": [
    "def same_binary_trees(root1, root2):\n",
    "\n",
    "    def check(root1, root2):\n",
    "        if not root1 and not root2:\n",
    "            return True\n",
    "        \n",
    "        if (not root1 and root2) or (root1 and not root2) or (root1.val != root2.val):\n",
    "            return False\n",
    "        \n",
    "        return check(root1.left, root2.left) and check(root1.right, root2.right)\n",
    "\n",
    "    return check(root1, root2) \n"
   ]
  },
  {
   "cell_type": "markdown",
   "metadata": {},
   "source": [
    "### CHECK SYMMETRIC BINARY TREE"
   ]
  },
  {
   "cell_type": "code",
   "execution_count": 40,
   "metadata": {},
   "outputs": [],
   "source": [
    "def symmetric_binary_trees(root):\n",
    "\n",
    "    def check(root1, root2):\n",
    "        if not root1 and not root2:\n",
    "            return True\n",
    "        \n",
    "        if (not root1 or not root2) or (root1.val != root2.val):\n",
    "            return False\n",
    "        \n",
    "        return check(root1.left, root2.right) and check(root1.right, root2.left)\n",
    "\n",
    "    return check(root, root) \n"
   ]
  },
  {
   "cell_type": "markdown",
   "metadata": {},
   "source": [
    "### HAS PATH SUM"
   ]
  },
  {
   "cell_type": "code",
   "execution_count": 41,
   "metadata": {},
   "outputs": [],
   "source": [
    "def has_path_sum(root, target): \n",
    "    \n",
    "    def has_sum(root, cur_sum):\n",
    "        if not root:\n",
    "            return False\n",
    "\n",
    "        cur_sum += root.val\n",
    "        \n",
    "        if not root.left and not root.right:\n",
    "            return cur_sum == target\n",
    "        \n",
    "        return has_sum(root.left, cur_sum) or has_sum(root.right, cur_sum) \n",
    "\n",
    "    return has_sum(root, 0)"
   ]
  },
  {
   "cell_type": "markdown",
   "metadata": {},
   "source": [
    "### HAS SUBTREE"
   ]
  },
  {
   "cell_type": "code",
   "execution_count": 42,
   "metadata": {},
   "outputs": [],
   "source": [
    "def is_subtree(root, subroot):    \n",
    "    \n",
    "    def same_tree(root1, root2):\n",
    "        if not root1 and not root2:\n",
    "            return True\n",
    "        \n",
    "        if (not root1 or not root2) or (root1.val != root2.val):\n",
    "            return False\n",
    "        \n",
    "        return same_tree(root1.left, root2.left) and same_tree(root1.right, root2.right)\n",
    "\n",
    "    def has_subtree(root):\n",
    "        if not root:\n",
    "            return False\n",
    "\n",
    "        if same_tree(root, subroot):\n",
    "            return True\n",
    "        else:\n",
    "            return has_subtree(root.left) or has_subtree(root.right) \n",
    "\n",
    "    return has_subtree(root)\n",
    "\n",
    "\n"
   ]
  },
  {
   "cell_type": "markdown",
   "metadata": {},
   "source": [
    "### LEVEL ORDER TRAVERSAL BFS"
   ]
  },
  {
   "cell_type": "code",
   "execution_count": 43,
   "metadata": {},
   "outputs": [],
   "source": [
    "def level_order_traversal(root):\n",
    "    to_return = []\n",
    "\n",
    "    if root is None:\n",
    "        return to_return\n",
    "    \n",
    "    q = deque()\n",
    "    \n",
    "    q.append(root)\n",
    "    while q:\n",
    "        level = []\n",
    "        n = len(q)\n",
    "        \n",
    "        for i in range(n):\n",
    "            node = q.popleft()\n",
    "\n",
    "            level.append(node.val)\n",
    "            if node.left: q.append(node.left)\n",
    "            if node.right: q.append(node.right)\n",
    "    \n",
    "        to_return.append(level)           \n",
    "    \n",
    "    return to_return\n",
    "\n"
   ]
  },
  {
   "cell_type": "markdown",
   "metadata": {},
   "source": [
    "### KTH SMALLEST ELEMENT"
   ]
  },
  {
   "cell_type": "code",
   "execution_count": null,
   "metadata": {},
   "outputs": [],
   "source": [
    "def find_kth_smallest_element(root, k):\n",
    "    i = [0]\n",
    "\n",
    "    def in_order_traversal(root):\n",
    "        if not root:\n",
    "            return -1\n",
    "        \n",
    "        left = in_order_traversal(root.left)\n",
    "\n",
    "        if left != -1:\n",
    "            return left\n",
    "        \n",
    "        i[0] += 1\n",
    "        if k == i[0]:\n",
    "            return root.val\n",
    "        \n",
    "        return in_order_traversal(root.right)\n",
    "\n",
    "    return in_order_traversal(root)\n",
    "        "
   ]
  },
  {
   "cell_type": "markdown",
   "metadata": {},
   "source": [
    "### VALID BST"
   ]
  },
  {
   "cell_type": "code",
   "execution_count": 46,
   "metadata": {},
   "outputs": [],
   "source": [
    "def valid_bst(root): \n",
    "    def is_valid(node, minn, maxx):\n",
    "        if not node:\n",
    "            return True\n",
    "        \n",
    "        if node.val <= minn or node.val >= maxx:\n",
    "            return False\n",
    "        \n",
    "        return is_valid(node.left, minn, node.val) and is_valid(node.right, node.val, maxx)\n",
    "    \n",
    "    return is_valid(root, float('-inf'), float('inf'))"
   ]
  },
  {
   "cell_type": "markdown",
   "metadata": {},
   "source": [
    "### LOWEST COMMON ANCESTOR"
   ]
  },
  {
   "cell_type": "code",
   "execution_count": 49,
   "metadata": {},
   "outputs": [],
   "source": [
    "def find_lca(root, p, q):\n",
    "    lca = root\n",
    "\n",
    "    if (lca.val > p.val) and (lca.val > q.val):\n",
    "        lca = find_lca(root.left, p, q)\n",
    "\n",
    "    elif (lca.val < p.val) and (lca.val < q.val):\n",
    "        lca = find_lca(root.right, p, q)\n",
    "    \n",
    "    return lca"
   ]
  },
  {
   "cell_type": "markdown",
   "metadata": {},
   "source": [
    "### TRIE STORE WORDS DATA STRUCTURE"
   ]
  },
  {
   "cell_type": "code",
   "execution_count": null,
   "metadata": {},
   "outputs": [],
   "source": [
    "class Trie:\n",
    "\n",
    "    def __init__(self):\n",
    "        self.trie = {}\n",
    "\n",
    "    def insert(self, word: str) -> None:\n",
    "        d = self.trie\n",
    "\n",
    "        for c in word:\n",
    "            if c not in d:\n",
    "                d[c] = {}\n",
    "            d = d[c]\n",
    "\n",
    "        d['.'] = '.'        \n",
    "\n",
    "    def search(self, word: str) -> bool:\n",
    "        d = self.trie\n",
    "        \n",
    "        for c in word:\n",
    "            if c not in d:\n",
    "                return False\n",
    "            d = d[c]\n",
    "\n",
    "        return '.' in d         \n",
    "\n",
    "\n",
    "    def startsWith(self, prefix: str) -> bool:\n",
    "        d = self.trie\n",
    "        \n",
    "        for c in prefix:\n",
    "            if c not in d:\n",
    "                return False\n",
    "            d = d[c]\n",
    "        \n",
    "        return True  "
   ]
  }
 ],
 "metadata": {
  "kernelspec": {
   "display_name": "Python 3",
   "language": "python",
   "name": "python3"
  },
  "language_info": {
   "codemirror_mode": {
    "name": "ipython",
    "version": 3
   },
   "file_extension": ".py",
   "mimetype": "text/x-python",
   "name": "python",
   "nbconvert_exporter": "python",
   "pygments_lexer": "ipython3",
   "version": "3.12.8"
  }
 },
 "nbformat": 4,
 "nbformat_minor": 2
}
