{
 "cells": [
  {
   "cell_type": "markdown",
   "metadata": {},
   "source": [
    "### FIND MAXIMUM SUBARRAY I"
   ]
  },
  {
   "cell_type": "code",
   "execution_count": 38,
   "metadata": {},
   "outputs": [],
   "source": [
    "def find_max_average(nums, k):\n",
    "    n = len(nums)\n",
    "\n",
    "    if k > n:\n",
    "        print(f\"You gave k = {k} which is bigger than length of nums which is {n}\")\n",
    "        return None\n",
    "\n",
    "    cur_sum = 0\n",
    "    for i in range(k):\n",
    "        cur_sum += nums[i]\n",
    "\n",
    "    max_sum = cur_sum\n",
    "    \n",
    "    for i in range(k, n):\n",
    "        cur_sum -= nums[i-k]\n",
    "        cur_sum += nums[i]\n",
    "        max_sum = max(cur_sum, max_sum)\n",
    "\n",
    "    return (max_sum / k)\n"
   ]
  },
  {
   "cell_type": "code",
   "execution_count": 39,
   "metadata": {},
   "outputs": [
    {
     "data": {
      "text/plain": [
       "12.75"
      ]
     },
     "execution_count": 39,
     "metadata": {},
     "output_type": "execute_result"
    }
   ],
   "source": [
    "nums = [1,12,-5,-6,50,3]\n",
    "k = 4\n",
    "\n",
    "find_max_average(nums=nums, k=k)"
   ]
  },
  {
   "cell_type": "markdown",
   "metadata": {},
   "source": [
    "### FIND LONGEST ONES"
   ]
  },
  {
   "cell_type": "code",
   "execution_count": 35,
   "metadata": {},
   "outputs": [],
   "source": [
    "def longest_ones(nums, k):\n",
    "    n = len(nums)\n",
    "    l = 0\n",
    "    max_w = 0 \n",
    "    num_zeros = 0\n",
    "\n",
    "    for r in range(n):\n",
    "\n",
    "        if nums[r] == 0:\n",
    "            num_zeros += 1\n",
    "            \n",
    "        while num_zeros > k:\n",
    "            \n",
    "            if nums[l] == 0:\n",
    "                num_zeros -= 1\n",
    "\n",
    "            l += 1\n",
    "\n",
    "        w = r - l + 1\n",
    "        max_w = max(w, max_w)\n",
    "\n",
    "    return max_w"
   ]
  },
  {
   "cell_type": "code",
   "execution_count": 36,
   "metadata": {},
   "outputs": [
    {
     "data": {
      "text/plain": [
       "6"
      ]
     },
     "execution_count": 36,
     "metadata": {},
     "output_type": "execute_result"
    }
   ],
   "source": [
    "nums = [1,1,1,0,0,0,1,1,1,1,0]\n",
    "k = 2\n",
    "longest_ones(nums=nums, k=k)"
   ]
  }
 ],
 "metadata": {
  "kernelspec": {
   "display_name": "Python 3",
   "language": "python",
   "name": "python3"
  },
  "language_info": {
   "codemirror_mode": {
    "name": "ipython",
    "version": 3
   },
   "file_extension": ".py",
   "mimetype": "text/x-python",
   "name": "python",
   "nbconvert_exporter": "python",
   "pygments_lexer": "ipython3",
   "version": "3.12.8"
  }
 },
 "nbformat": 4,
 "nbformat_minor": 2
}
