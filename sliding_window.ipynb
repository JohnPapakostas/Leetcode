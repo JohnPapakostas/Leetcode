{
 "cells": [
  {
   "cell_type": "markdown",
   "metadata": {},
   "source": [
    "### Maximum Average Subarray I"
   ]
  },
  {
   "cell_type": "code",
   "execution_count": null,
   "metadata": {},
   "outputs": [],
   "source": [
    "class Solution:\n",
    "    def findMaxAverage(self, nums: List[int], k: int) -> float:\n",
    "        n = len(nums)\n",
    "\n",
    "        cur_sum = 0\n",
    "        for i in range(k):\n",
    "            cur_sum += nums[i]\n",
    "\n",
    "        max_sum = cur_sum\n",
    "        \n",
    "        for i in range(k, n):\n",
    "            cur_sum -= nums[i-k]\n",
    "            cur_sum += nums[i]\n",
    "            max_sum = max(cur_sum, max_sum)\n",
    "\n",
    "        return (max_sum / k)"
   ]
  },
  {
   "cell_type": "markdown",
   "metadata": {},
   "source": [
    "### Max Consecutive Ones III"
   ]
  },
  {
   "cell_type": "code",
   "execution_count": null,
   "metadata": {},
   "outputs": [],
   "source": [
    "class Solution:\n",
    "    def longestOnes(self, nums: List[int], k: int) -> int:\n",
    "        n = len(nums)\n",
    "        l = 0\n",
    "        max_w = 0 \n",
    "        num_zeros = 0\n",
    "\n",
    "        for r in range(n):\n",
    "\n",
    "            if nums[r] == 0:\n",
    "                num_zeros += 1\n",
    "                \n",
    "            while num_zeros > k:\n",
    "                \n",
    "                if nums[l] == 0:\n",
    "                    num_zeros -= 1\n",
    "\n",
    "                l += 1\n",
    "\n",
    "            w = r - l + 1\n",
    "            max_w = max(w, max_w)\n",
    "\n",
    "        return max_w    "
   ]
  },
  {
   "cell_type": "markdown",
   "metadata": {},
   "source": [
    "### Longest Substring Without Repeating Characters\t"
   ]
  },
  {
   "cell_type": "code",
   "execution_count": 1,
   "metadata": {},
   "outputs": [],
   "source": [
    "class Solution:\n",
    "    def lengthOfLongestSubstring(self, s: str) -> int:\n",
    "        l = 0\n",
    "        n = len(s)\n",
    "        st = set()\n",
    "        m = 0\n",
    "\n",
    "        for r in range(n):\n",
    "            while s[r] in st:\n",
    "                st.remove(s[l])\n",
    "                l += 1\n",
    "            st.add(s[r])\n",
    "            m = max(r - l + 1, m)\n",
    "\n",
    "        return m "
   ]
  },
  {
   "cell_type": "markdown",
   "metadata": {},
   "source": [
    "### Longest Repeating Character Replacement"
   ]
  },
  {
   "cell_type": "code",
   "execution_count": null,
   "metadata": {},
   "outputs": [],
   "source": [
    "class Solution:\n",
    "    def characterReplacement(self, s: str, k: int) -> int:\n",
    "        l = 0\n",
    "        n = len(s)\n",
    "        m = 0\n",
    "        counts = [0] * 26\n",
    "\n",
    "        for r in range(n):\n",
    "            counts[ord(s[r]) - ord('A')] += 1\n",
    "            \n",
    "            while r - l + 1 - max(counts) > k:\n",
    "                counts[ord(s[l]) - ord('A')] -= 1\n",
    "                l += 1\n",
    "            m = max(m, r - l + 1)    \n",
    "\n",
    "        return m"
   ]
  },
  {
   "cell_type": "markdown",
   "metadata": {},
   "source": [
    "### Minimum Size Subarray Sum"
   ]
  },
  {
   "cell_type": "code",
   "execution_count": null,
   "metadata": {},
   "outputs": [],
   "source": [
    "class Solution:\n",
    "    def minSubArrayLen(self, target: int, nums: List[int]) -> int:\n",
    "        l = 0 \n",
    "        n = len(nums)\n",
    "        m = float('inf')\n",
    "        summ = 0 \n",
    "\n",
    "        for r in range(n):\n",
    "            summ += nums[r]\n",
    "            while summ >= target:\n",
    "                m = min(m, r - l + 1)\n",
    "                summ -= nums[l]\n",
    "                l += 1\n",
    "\n",
    "            \n",
    "        return m if m != float('inf') else 0"
   ]
  },
  {
   "cell_type": "markdown",
   "metadata": {},
   "source": [
    "### Permutation in String"
   ]
  },
  {
   "cell_type": "code",
   "execution_count": null,
   "metadata": {},
   "outputs": [],
   "source": []
  }
 ],
 "metadata": {
  "kernelspec": {
   "display_name": "Python 3",
   "language": "python",
   "name": "python3"
  },
  "language_info": {
   "codemirror_mode": {
    "name": "ipython",
    "version": 3
   },
   "file_extension": ".py",
   "mimetype": "text/x-python",
   "name": "python",
   "nbconvert_exporter": "python",
   "pygments_lexer": "ipython3",
   "version": "3.11.4"
  }
 },
 "nbformat": 4,
 "nbformat_minor": 2
}
