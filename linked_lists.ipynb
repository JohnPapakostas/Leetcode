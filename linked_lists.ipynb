{
 "cells": [
  {
   "cell_type": "markdown",
   "metadata": {},
   "source": [
    "### List Node\n"
   ]
  },
  {
   "cell_type": "code",
   "execution_count": 9,
   "metadata": {},
   "outputs": [],
   "source": [
    "class ListNode(object):\n",
    "     def __init__(self, val=0, next=None):\n",
    "         self.val = val\n",
    "         self.next = next"
   ]
  },
  {
   "cell_type": "code",
   "execution_count": 10,
   "metadata": {},
   "outputs": [],
   "source": [
    "def print_list(head):\n",
    "    cur = head\n",
    "    elements = []\n",
    "\n",
    "    while cur:\n",
    "        elements.append(str(cur.val))\n",
    "        cur = cur.next\n",
    "\n",
    "    print(\" -> \".join(elements))    "
   ]
  },
  {
   "cell_type": "markdown",
   "metadata": {},
   "source": [
    "### DELETE DUPLICATES"
   ]
  },
  {
   "cell_type": "code",
   "execution_count": 11,
   "metadata": {},
   "outputs": [],
   "source": [
    "def delete_duplicates(head):\n",
    "    cur = head\n",
    "    while cur and cur.next:\n",
    "        if cur.val == cur.next.val:\n",
    "           cur.next = cur.next.next\n",
    "        else:\n",
    "           cur = cur.next\n",
    "    return head"
   ]
  },
  {
   "cell_type": "code",
   "execution_count": 12,
   "metadata": {},
   "outputs": [
    {
     "name": "stdout",
     "output_type": "stream",
     "text": [
      "1 -> 1 -> 1\n",
      "1\n"
     ]
    }
   ],
   "source": [
    "n3 = ListNode(1)\n",
    "n2 = ListNode(1, n3) \n",
    "head = ListNode(1, n2)\n",
    "print_list(head=head)\n",
    "delete_duplicates(head)\n",
    "print_list(head=head)"
   ]
  },
  {
   "cell_type": "markdown",
   "metadata": {},
   "source": [
    "### REVERSED LINKED LIST"
   ]
  },
  {
   "cell_type": "code",
   "execution_count": 22,
   "metadata": {},
   "outputs": [],
   "source": [
    "def reversed_linked_list(head):\n",
    "    cur = head \n",
    "    new_head = None\n",
    "    while cur:\n",
    "        temp = cur.next\n",
    "        cur.next = new_head\n",
    "        new_head = cur\n",
    "        cur = temp\n",
    "    return new_head"
   ]
  },
  {
   "cell_type": "code",
   "execution_count": 24,
   "metadata": {},
   "outputs": [
    {
     "name": "stdout",
     "output_type": "stream",
     "text": [
      "1 -> 2 -> 3\n",
      "3 -> 2 -> 1\n"
     ]
    }
   ],
   "source": [
    "n3 = ListNode(3)\n",
    "n2 = ListNode(2, n3) \n",
    "head = ListNode(1, n2)\n",
    "print_list(head=head)\n",
    "new_head = reversed_linked_list(head)\n",
    "print_list(head=new_head)"
   ]
  },
  {
   "cell_type": "markdown",
   "metadata": {},
   "source": [
    "### MERGE TWO SORTED LISTS"
   ]
  },
  {
   "cell_type": "code",
   "execution_count": 30,
   "metadata": {},
   "outputs": [],
   "source": [
    "def rename_nodes(cur, new_node):\n",
    "    cur.next = new_node\n",
    "    return cur.next, new_node.next\n",
    "\n",
    "\n",
    "def merge_two_sorted_lists(list1, list2):\n",
    "\n",
    "    new_head = ListNode(-1)\n",
    "    cur = new_head\n",
    "    \n",
    "    while list1 and list2:\n",
    "        if list1.val > list2.val:\n",
    "            cur, list2 = rename_nodes(cur, list2)\n",
    "\n",
    "        else:\n",
    "            cur, list1 = rename_nodes(cur, list1)\n",
    "            \n",
    "    cur.next = list1 if list1 else list2 \n",
    "    return new_head.next"
   ]
  },
  {
   "cell_type": "code",
   "execution_count": 31,
   "metadata": {},
   "outputs": [
    {
     "name": "stdout",
     "output_type": "stream",
     "text": [
      "1 -> 2 -> 3\n",
      "1 -> 2 -> 3\n",
      "1 -> 1 -> 2 -> 3 -> 3\n"
     ]
    }
   ],
   "source": [
    "list1_3 = ListNode(3)\n",
    "list1_2 = ListNode(2, list1_3) \n",
    "list1 = ListNode(1, list1_2)\n",
    "print_list(head=list1)\n",
    "\n",
    "list2_3 = ListNode(3)\n",
    "list2_2 = ListNode(2, list2_3) \n",
    "list2 = ListNode(1, list2_3)\n",
    "print_list(head=list1)\n",
    "\n",
    "new_head = merge_two_sorted_lists(list1=list1, list2=list2)\n",
    "print_list(head=new_head)"
   ]
  },
  {
   "cell_type": "markdown",
   "metadata": {},
   "source": [
    "### HAS CYCLE"
   ]
  },
  {
   "cell_type": "code",
   "execution_count": null,
   "metadata": {},
   "outputs": [],
   "source": [
    "def has_cycle(head):\n",
    "    dummy = ListNode()\n",
    "    dummy.next = head\n",
    "    slow = fast = dummy\n",
    "        \n",
    "    while fast and fast.next:\n",
    "        \n",
    "        slow = slow.next\n",
    "        fast = fast.next.next\n",
    "\n",
    "        if slow is fast:\n",
    "            return True\n",
    "\n",
    "    return False"
   ]
  }
 ],
 "metadata": {
  "kernelspec": {
   "display_name": "Python 3",
   "language": "python",
   "name": "python3"
  },
  "language_info": {
   "codemirror_mode": {
    "name": "ipython",
    "version": 3
   },
   "file_extension": ".py",
   "mimetype": "text/x-python",
   "name": "python",
   "nbconvert_exporter": "python",
   "pygments_lexer": "ipython3",
   "version": "3.12.8"
  }
 },
 "nbformat": 4,
 "nbformat_minor": 2
}
