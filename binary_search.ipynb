{
 "cells": [
  {
   "cell_type": "markdown",
   "metadata": {},
   "source": [
    "### Binary Search\n"
   ]
  },
  {
   "cell_type": "code",
   "execution_count": 2,
   "metadata": {},
   "outputs": [],
   "source": [
    "def binary_search(nums, target):\n",
    "    N = len(nums)\n",
    "    L = 0\n",
    "    R = N - 1\n",
    "    \n",
    "    while L <= R:\n",
    "        M = L + ((R - L) // 2)\n",
    "\n",
    "        if nums[M] == target:\n",
    "            return M\n",
    "        elif nums[M] > target:\n",
    "            R = M - 1 \n",
    "        else: \n",
    "            L = M + 1\n",
    "                            \n",
    "    return -1"
   ]
  },
  {
   "cell_type": "code",
   "execution_count": 5,
   "metadata": {},
   "outputs": [
    {
     "data": {
      "text/plain": [
       "4"
      ]
     },
     "execution_count": 5,
     "metadata": {},
     "output_type": "execute_result"
    }
   ],
   "source": [
    "nums = [-1,0,3,5,9,12]\n",
    "binary_search(nums=nums, target=9)"
   ]
  },
  {
   "cell_type": "markdown",
   "metadata": {},
   "source": [
    "### Search Insert Position"
   ]
  },
  {
   "cell_type": "code",
   "execution_count": 26,
   "metadata": {},
   "outputs": [],
   "source": [
    "def search_insert_position(nums, target):\n",
    "    N = len(nums)\n",
    "    L = 0\n",
    "    R = N - 1\n",
    "\n",
    "    while L <= R:\n",
    "        M = L + ((R - L) // 2)\n",
    "        if nums[M] == target:\n",
    "            return M\n",
    "        elif nums[M] > target:\n",
    "            R = M - 1 \n",
    "        else: \n",
    "            L = M + 1\n",
    "\n",
    "    if nums[M] < target:\n",
    "        return M + 1  \n",
    "    else:\n",
    "        return M"
   ]
  },
  {
   "cell_type": "code",
   "execution_count": 27,
   "metadata": {},
   "outputs": [
    {
     "data": {
      "text/plain": [
       "0"
      ]
     },
     "execution_count": 27,
     "metadata": {},
     "output_type": "execute_result"
    }
   ],
   "source": [
    "s = nums = [1,3,5,6]\n",
    "search_insert_position(nums=nums, target=0)"
   ]
  },
  {
   "cell_type": "markdown",
   "metadata": {},
   "source": [
    "### FIRST BAD VERSION"
   ]
  },
  {
   "cell_type": "code",
   "execution_count": 13,
   "metadata": {},
   "outputs": [],
   "source": [
    "def first_bad_version(n):\n",
    "    L = 0\n",
    "    R = n\n",
    "    \n",
    "    while L < R:\n",
    "        M = L + ((R - L) // 2)\n",
    "        \n",
    "        if isBadVersion(M):\n",
    "            R = M\n",
    "        else:\n",
    "            L = M + 1\n",
    "\n",
    "    return L                  "
   ]
  },
  {
   "cell_type": "markdown",
   "metadata": {},
   "source": [
    "### VALID PERFECT SQUARE"
   ]
  },
  {
   "cell_type": "code",
   "execution_count": 29,
   "metadata": {},
   "outputs": [],
   "source": [
    "def is_valid_perfect_square(num):\n",
    "    L = 1\n",
    "    R = num\n",
    "    \n",
    "    while L <= R:\n",
    "        M = L + ((R - L) // 2)\n",
    "        M_squared = M**2\n",
    "\n",
    "        if M_squared == num:\n",
    "            return True\n",
    "        elif M_squared > num:\n",
    "            R = M - 1 \n",
    "        else: \n",
    "            L = M + 1\n",
    "                            \n",
    "    return False"
   ]
  },
  {
   "cell_type": "code",
   "execution_count": 30,
   "metadata": {},
   "outputs": [
    {
     "data": {
      "text/plain": [
       "False"
      ]
     },
     "execution_count": 30,
     "metadata": {},
     "output_type": "execute_result"
    }
   ],
   "source": [
    "is_valid_perfect_square(35)"
   ]
  }
 ],
 "metadata": {
  "kernelspec": {
   "display_name": "Python 3",
   "language": "python",
   "name": "python3"
  },
  "language_info": {
   "codemirror_mode": {
    "name": "ipython",
    "version": 3
   },
   "file_extension": ".py",
   "mimetype": "text/x-python",
   "name": "python",
   "nbconvert_exporter": "python",
   "pygments_lexer": "ipython3",
   "version": "3.12.8"
  }
 },
 "nbformat": 4,
 "nbformat_minor": 2
}
