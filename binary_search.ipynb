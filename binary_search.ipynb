{
 "cells": [
  {
   "cell_type": "markdown",
   "metadata": {},
   "source": [
    "### Binary Search\n"
   ]
  },
  {
   "cell_type": "code",
   "execution_count": null,
   "metadata": {},
   "outputs": [],
   "source": [
    "class Solution:\n",
    "    def search(self, nums: List[int], target: int) -> int:\n",
    "        N = len(nums)\n",
    "        L = 0\n",
    "        R = N - 1\n",
    "        \n",
    "        while L <= R:\n",
    "            M = L + ((R - L) // 2)\n",
    "\n",
    "            if nums[M] == target:\n",
    "                return M\n",
    "            elif nums[M] > target:\n",
    "                R = M - 1 \n",
    "            else: \n",
    "                L = M + 1\n",
    "                                \n",
    "        return -1"
   ]
  },
  {
   "cell_type": "markdown",
   "metadata": {},
   "source": [
    "### Search Insert Position"
   ]
  },
  {
   "cell_type": "code",
   "execution_count": null,
   "metadata": {},
   "outputs": [],
   "source": [
    "class Solution:\n",
    "    def searchInsert(self, nums: List[int], target: int) -> int:\n",
    "        N = len(nums)\n",
    "        L = 0\n",
    "        R = N - 1\n",
    "\n",
    "        while L <= R:\n",
    "            M = L + ((R - L) // 2)\n",
    "            if nums[M] == target:\n",
    "                return M\n",
    "            elif nums[M] > target:\n",
    "                R = M - 1 \n",
    "            else: \n",
    "                L = M + 1\n",
    "\n",
    "        if nums[M] < target:\n",
    "            return M + 1  \n",
    "        else:\n",
    "            return M"
   ]
  },
  {
   "cell_type": "markdown",
   "metadata": {},
   "source": [
    "### First Bad Version"
   ]
  },
  {
   "cell_type": "code",
   "execution_count": null,
   "metadata": {},
   "outputs": [],
   "source": [
    "class Solution:\n",
    "    def firstBadVersion(self, n: int) -> int:\n",
    "        L = 0\n",
    "        R = n\n",
    "        \n",
    "        while L < R:\n",
    "            M = L + ((R - L) // 2)\n",
    "            \n",
    "            if isBadVersion(M):\n",
    "                R = M\n",
    "            else:\n",
    "                L = M + 1\n",
    "\n",
    "        return L         "
   ]
  },
  {
   "cell_type": "markdown",
   "metadata": {},
   "source": [
    "### Valid Perfect Square"
   ]
  },
  {
   "cell_type": "code",
   "execution_count": null,
   "metadata": {},
   "outputs": [],
   "source": [
    "class Solution:\n",
    "    def isPerfectSquare(self, num: int) -> bool:\n",
    "        L = 1\n",
    "        R = num\n",
    "        \n",
    "        while L <= R:\n",
    "            M = L + ((R - L) // 2)\n",
    "            M_squared = M**2\n",
    "\n",
    "            if M_squared == num:\n",
    "                return True\n",
    "            elif M_squared > num:\n",
    "                R = M - 1 \n",
    "            else: \n",
    "                L = M + 1\n",
    "                                \n",
    "        return False"
   ]
  },
  {
   "cell_type": "markdown",
   "metadata": {},
   "source": [
    "### Search a 2D Matrix"
   ]
  },
  {
   "cell_type": "code",
   "execution_count": null,
   "metadata": {},
   "outputs": [],
   "source": [
    "class Solution:\n",
    "    def searchMatrix(self, matrix: List[List[int]], target: int) -> bool:\n",
    "        l = 0\n",
    "        m = len(matrix)\n",
    "        n = len(matrix[0])\n",
    "        r = (m * n) - 1\n",
    "        \n",
    "        while l <= r:\n",
    "            M = l + (r - l) // 2\n",
    "            i = M // n\n",
    "            j = M % n\n",
    "\n",
    "            if matrix[i][j] == target:\n",
    "                return True\n",
    "            elif matrix[i][j] < target:\n",
    "                l = M + 1\n",
    "            else:        \n",
    "                r = M - 1\n",
    "\n",
    "        return False        "
   ]
  },
  {
   "cell_type": "markdown",
   "metadata": {},
   "source": [
    "### Find Minimum Rotated Sorted Array"
   ]
  },
  {
   "cell_type": "code",
   "execution_count": null,
   "metadata": {},
   "outputs": [],
   "source": [
    "class Solution:\n",
    "    def isPerfectSquare(self, num: int) -> bool:\n",
    "        L = 1\n",
    "        R = num\n",
    "        \n",
    "        while L <= R:\n",
    "            M = L + ((R - L) // 2)\n",
    "            M_squared = M**2\n",
    "\n",
    "            if M_squared == num:\n",
    "                return True\n",
    "            elif M_squared > num:\n",
    "                R = M - 1 \n",
    "            else: \n",
    "                L = M + 1\n",
    "                                \n",
    "        return False"
   ]
  },
  {
   "cell_type": "markdown",
   "metadata": {},
   "source": [
    "### Search in Rotated Sorted Array"
   ]
  },
  {
   "cell_type": "code",
   "execution_count": null,
   "metadata": {},
   "outputs": [],
   "source": [
    "class Solution:\n",
    "    def search(self, nums: List[int], target: int) -> int:\n",
    "        n = len(nums)\n",
    "        l = 0\n",
    "        r = n -1\n",
    "\n",
    "        while l < r:\n",
    "            m = l + ((r - l) // 2)\n",
    "                \n",
    "            if nums[m] > nums[r]:\n",
    "               l = m + 1\n",
    "\n",
    "            else: \n",
    "               r = m\n",
    "        \n",
    "        min_i = l\n",
    "        if min_i == 0: \n",
    "            l, r = 0, n-1\n",
    "        elif target >= nums[0] and target <= nums[min_i-1]:\n",
    "            l, r = 0, min_i-1\n",
    "        else:\n",
    "            l, r = min_i, n-1\n",
    "\n",
    "        while l <= r:\n",
    "            m = l + ((r - l) // 2)\n",
    "\n",
    "            if nums[m] == target:\n",
    "                return m    \n",
    "            if nums[m] < target:\n",
    "               l = m + 1\n",
    "            else: \n",
    "               r = m - 1\n",
    "\n",
    "        return -1"
   ]
  },
  {
   "cell_type": "markdown",
   "metadata": {},
   "source": [
    "### Koko Eating Bananas"
   ]
  },
  {
   "cell_type": "code",
   "execution_count": null,
   "metadata": {},
   "outputs": [],
   "source": [
    "class Solution:\n",
    "    def minEatingSpeed(self, piles: List[int], h: int) -> int:\n",
    "        def k_is_enough(k):\n",
    "            nh = 0  \n",
    "            for pile in piles:\n",
    "                nh += ceil(pile / k)\n",
    "\n",
    "            return nh <= h\n",
    "        \n",
    "        l = 1 \n",
    "        r = max(piles)\n",
    "\n",
    "        while l < r:\n",
    "            m = l + (r - l) // 2\n",
    "            \n",
    "            if not k_is_enough(m):\n",
    "               l = m + 1\n",
    "            else:\n",
    "               r = m\n",
    "\n",
    "        return l"
   ]
  }
 ],
 "metadata": {
  "kernelspec": {
   "display_name": "Python 3",
   "language": "python",
   "name": "python3"
  },
  "language_info": {
   "codemirror_mode": {
    "name": "ipython",
    "version": 3
   },
   "file_extension": ".py",
   "mimetype": "text/x-python",
   "name": "python",
   "nbconvert_exporter": "python",
   "pygments_lexer": "ipython3",
   "version": "3.12.8"
  }
 },
 "nbformat": 4,
 "nbformat_minor": 2
}
