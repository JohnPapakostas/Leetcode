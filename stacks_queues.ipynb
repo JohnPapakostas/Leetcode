{
 "cells": [
  {
   "cell_type": "markdown",
   "metadata": {},
   "source": [
    "### Baseball Game\n"
   ]
  },
  {
   "cell_type": "code",
   "execution_count": 2,
   "metadata": {},
   "outputs": [
    {
     "ename": "NameError",
     "evalue": "name 'List' is not defined",
     "output_type": "error",
     "traceback": [
      "\u001b[1;31m---------------------------------------------------------------------------\u001b[0m",
      "\u001b[1;31mNameError\u001b[0m                                 Traceback (most recent call last)",
      "Cell \u001b[1;32mIn[2], line 1\u001b[0m\n\u001b[1;32m----> 1\u001b[0m \u001b[38;5;28;43;01mclass\u001b[39;49;00m\u001b[43m \u001b[49m\u001b[38;5;21;43;01mSolution\u001b[39;49;00m\u001b[43m:\u001b[49m\n\u001b[0;32m      2\u001b[0m \u001b[43m    \u001b[49m\u001b[38;5;28;43;01mdef\u001b[39;49;00m\u001b[43m \u001b[49m\u001b[38;5;21;43mcalPoints\u001b[39;49m\u001b[43m(\u001b[49m\u001b[38;5;28;43mself\u001b[39;49m\u001b[43m,\u001b[49m\u001b[43m \u001b[49m\u001b[43moperations\u001b[49m\u001b[43m:\u001b[49m\u001b[43m \u001b[49m\u001b[43mList\u001b[49m\u001b[43m[\u001b[49m\u001b[38;5;28;43mstr\u001b[39;49m\u001b[43m]\u001b[49m\u001b[43m)\u001b[49m\u001b[43m \u001b[49m\u001b[38;5;241;43m-\u001b[39;49m\u001b[38;5;241;43m>\u001b[39;49m\u001b[43m \u001b[49m\u001b[38;5;28;43mint\u001b[39;49m\u001b[43m:\u001b[49m\n\u001b[0;32m      3\u001b[0m \u001b[43m        \u001b[49m\u001b[43mstk\u001b[49m\u001b[43m \u001b[49m\u001b[38;5;241;43m=\u001b[39;49m\u001b[43m \u001b[49m\u001b[43m[\u001b[49m\u001b[43m]\u001b[49m\n",
      "Cell \u001b[1;32mIn[2], line 2\u001b[0m, in \u001b[0;36mSolution\u001b[1;34m()\u001b[0m\n\u001b[0;32m      1\u001b[0m \u001b[38;5;28;01mclass\u001b[39;00m \u001b[38;5;21;01mSolution\u001b[39;00m:\n\u001b[1;32m----> 2\u001b[0m     \u001b[38;5;28;01mdef\u001b[39;00m \u001b[38;5;21mcalPoints\u001b[39m(\u001b[38;5;28mself\u001b[39m, operations: \u001b[43mList\u001b[49m[\u001b[38;5;28mstr\u001b[39m]) \u001b[38;5;241m-\u001b[39m\u001b[38;5;241m>\u001b[39m \u001b[38;5;28mint\u001b[39m:\n\u001b[0;32m      3\u001b[0m         stk \u001b[38;5;241m=\u001b[39m []\n\u001b[0;32m      5\u001b[0m         \u001b[38;5;28;01mfor\u001b[39;00m op \u001b[38;5;129;01min\u001b[39;00m operations:\n",
      "\u001b[1;31mNameError\u001b[0m: name 'List' is not defined"
     ]
    }
   ],
   "source": [
    "class Solution:\n",
    "    def calPoints(self, operations: List[str]) -> int:\n",
    "        stk = []\n",
    "\n",
    "        for op in operations:\n",
    "            if op == \"+\":\n",
    "                stk.append(stk[-1] + stk[-2])\n",
    "            elif op == 'D':\n",
    "                stk.append(2 * stk[-1])\n",
    "            elif op == 'C':\n",
    "                stk.pop()\n",
    "            else:\n",
    "                stk.append(int(op))\n",
    "\n",
    "        return sum(stk)    "
   ]
  },
  {
   "cell_type": "markdown",
   "metadata": {},
   "source": [
    "### Valid Parentheses"
   ]
  },
  {
   "cell_type": "code",
   "execution_count": null,
   "metadata": {},
   "outputs": [],
   "source": [
    "class Solution:\n",
    "    def isValid(self, s: str) -> bool:\n",
    "        hashMap = {\"(\":\")\", \"[\":\"]\", \"{\":\"}\"}\n",
    "        stk = []\n",
    "\n",
    "        for symbol in s:\n",
    "            if symbol in hashMap:\n",
    "                stk.append(symbol)\n",
    "            else:\n",
    "                if not stk:\n",
    "                    return False\n",
    "                else:\n",
    "                    to_check = stk.pop()\n",
    "                    if hashMap[to_check] != symbol:\n",
    "                        return False   \n",
    "            \n",
    "        return not stk"
   ]
  },
  {
   "cell_type": "markdown",
   "metadata": {},
   "source": [
    "### Evaluate Reverse Polish Notation (RPN)"
   ]
  },
  {
   "cell_type": "code",
   "execution_count": null,
   "metadata": {},
   "outputs": [],
   "source": [
    "import math\n",
    "class Solution:\n",
    "    def evalRPN(self, tokens: List[str]) -> int:\n",
    "        stk = []\n",
    "\n",
    "        for token in tokens:\n",
    "            if token == \"+\":\n",
    "                stk.append(stk.pop() + stk.pop())\n",
    "            elif token == '-':\n",
    "                op2 = stk.pop()\n",
    "                op1 = stk.pop()\n",
    "                stk.append(op1 - op2)\n",
    "            elif token == '*':\n",
    "                stk.append(stk.pop() * stk.pop())\n",
    "            elif token == '/':\n",
    "                op2 = stk.pop()\n",
    "                op1 = stk.pop()\n",
    "                \n",
    "                result = op1 / op2\n",
    "                if result > 0:\n",
    "                    stk.append(math.floor(result))\n",
    "                else:\n",
    "                    stk.append(math.ceil(result))\n",
    "            else:\n",
    "                stk.append(int(token))\n",
    "        \n",
    "        return stk[0]"
   ]
  },
  {
   "cell_type": "markdown",
   "metadata": {},
   "source": [
    "### Daily Temperatures"
   ]
  },
  {
   "cell_type": "code",
   "execution_count": null,
   "metadata": {},
   "outputs": [],
   "source": [
    "class Solution:\n",
    "    def dailyTemperatures(self, temperatures: List[int]) -> List[int]:\n",
    "        n = len(temperatures)\n",
    "        ans = [0] * n\n",
    "        s = []\n",
    "\n",
    "        for i, t in enumerate(temperatures):\n",
    "            while s and s[-1][0] < t:        \n",
    "                s_t, s_i = s.pop()\n",
    "                ans[s_i] = i - s_i\n",
    "            s.append((t, i))\n",
    "            \n",
    "        return ans            "
   ]
  },
  {
   "cell_type": "markdown",
   "metadata": {},
   "source": [
    "### Min Stack"
   ]
  },
  {
   "cell_type": "code",
   "execution_count": null,
   "metadata": {},
   "outputs": [],
   "source": [
    "class MinStack:\n",
    "\n",
    "    def __init__(self):\n",
    "        self.s = []    \n",
    "        self.m = []\n",
    "    \n",
    "    def push(self, val: int) -> None:\n",
    "        self.s.append(val)\n",
    "        \n",
    "        if self.m and self.m[-1] <= val:\n",
    "            self.m.append(self.m[-1])\n",
    "        else:\n",
    "            self.m.append(val)\n",
    "\n",
    "    def pop(self) -> None:\n",
    "        self.s.pop()\n",
    "        self.m.pop()\n",
    "\n",
    "    def top(self) -> int:\n",
    "        return self.s[-1]\n",
    "\n",
    "    def getMin(self) -> int:\n",
    "        return self.m[-1]\n",
    "\n",
    "\n",
    "# Your MinStack object will be instantiated and called as such:\n",
    "# obj = MinStack()\n",
    "# obj.push(val)\n",
    "# obj.pop()\n",
    "# param_3 = obj.top()\n",
    "# param_4 = obj.getMin()"
   ]
  }
 ],
 "metadata": {
  "kernelspec": {
   "display_name": "Python 3",
   "language": "python",
   "name": "python3"
  },
  "language_info": {
   "codemirror_mode": {
    "name": "ipython",
    "version": 3
   },
   "file_extension": ".py",
   "mimetype": "text/x-python",
   "name": "python",
   "nbconvert_exporter": "python",
   "pygments_lexer": "ipython3",
   "version": "3.12.9"
  }
 },
 "nbformat": 4,
 "nbformat_minor": 2
}
