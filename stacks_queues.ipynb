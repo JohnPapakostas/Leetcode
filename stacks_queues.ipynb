{
 "cells": [
  {
   "cell_type": "markdown",
   "metadata": {},
   "source": [
    "### Baseball Game\n"
   ]
  },
  {
   "cell_type": "code",
   "execution_count": 1,
   "metadata": {},
   "outputs": [],
   "source": [
    "def cal_points(operations_list):\n",
    "    stk = []\n",
    "\n",
    "    for op in operations_list:\n",
    "        if op == \"+\":\n",
    "           stk.append(stk[-1] + stk[-2])\n",
    "        elif op == 'D':\n",
    "            stk.append(2 * stk[-1])\n",
    "        elif op == 'C':\n",
    "            stk.pop()\n",
    "        else:\n",
    "            stk.append(int(op))\n",
    "\n",
    "    return sum(stk)"
   ]
  },
  {
   "cell_type": "code",
   "execution_count": 8,
   "metadata": {},
   "outputs": [
    {
     "data": {
      "text/plain": [
       "0"
      ]
     },
     "execution_count": 8,
     "metadata": {},
     "output_type": "execute_result"
    }
   ],
   "source": [
    "operations_list = [\"1\",\"C\"]\n",
    "cal_points(operations_list=operations_list)"
   ]
  },
  {
   "cell_type": "markdown",
   "metadata": {},
   "source": [
    "### VALID PARENTHESIS"
   ]
  },
  {
   "cell_type": "code",
   "execution_count": 24,
   "metadata": {},
   "outputs": [],
   "source": [
    "def is_valid(symbols):\n",
    "    hashMap = {\"(\":\")\", \"[\":\"]\", \"{\":\"}\"}\n",
    "    stk = []\n",
    "\n",
    "    for symbol in symbols:\n",
    "        if symbol in hashMap:\n",
    "            stk.append(symbol)\n",
    "        else:\n",
    "            if not stk:\n",
    "                return False\n",
    "            else:\n",
    "                to_check = stk.pop()\n",
    "                if hashMap[to_check] != symbol:\n",
    "                    return False   \n",
    "        \n",
    "    return not stk"
   ]
  },
  {
   "cell_type": "code",
   "execution_count": 25,
   "metadata": {},
   "outputs": [
    {
     "data": {
      "text/plain": [
       "False"
      ]
     },
     "execution_count": 25,
     "metadata": {},
     "output_type": "execute_result"
    }
   ],
   "source": [
    "s = \"}\"\n",
    "is_valid(s)"
   ]
  },
  {
   "cell_type": "markdown",
   "metadata": {},
   "source": [
    "### TWO SUM"
   ]
  },
  {
   "cell_type": "code",
   "execution_count": 28,
   "metadata": {},
   "outputs": [],
   "source": [
    "import math\n",
    "def eval_RPN(tokens):\n",
    "    stk = []\n",
    "\n",
    "    for token in tokens:\n",
    "        if token == \"+\":\n",
    "           stk.append(stk.pop() + stk.pop())\n",
    "        elif token == '-':\n",
    "            stk.append(stk.pop() - stk.pop())\n",
    "        elif token == '*':\n",
    "            stk.append(stk.pop() * stk.pop())\n",
    "        elif token == '/':\n",
    "            op2 = stk.pop()\n",
    "            op1 = stk.pop()\n",
    "            \n",
    "            result = op1 / op2\n",
    "            if result > 0:\n",
    "                stk.append(int(math.floor(result)))\n",
    "            else:\n",
    "                stk.append(int(math.ceil(result)))\n",
    "        else:\n",
    "            stk.append(int(token))\n",
    "    \n",
    "    return stk.pop()"
   ]
  },
  {
   "cell_type": "code",
   "execution_count": 31,
   "metadata": {},
   "outputs": [
    {
     "data": {
      "text/plain": [
       "22"
      ]
     },
     "execution_count": 31,
     "metadata": {},
     "output_type": "execute_result"
    }
   ],
   "source": [
    "tokens = [\"10\",\"6\",\"9\",\"3\",\"+\",\"-11\",\"*\",\"/\",\"*\",\"17\",\"+\",\"5\",\"+\"]\n",
    "eval_RPN(tokens)"
   ]
  },
  {
   "cell_type": "markdown",
   "metadata": {},
   "source": [
    "### VALID PALINDROME"
   ]
  },
  {
   "cell_type": "code",
   "execution_count": 6,
   "metadata": {},
   "outputs": [
    {
     "data": {
      "text/plain": [
       "True"
      ]
     },
     "execution_count": 6,
     "metadata": {},
     "output_type": "execute_result"
    }
   ],
   "source": [
    "def valid_palindromme(str):\n",
    "    str = str.lower()\n",
    "    start = 0\n",
    "    end = len(str) - 1\n",
    "\n",
    "    while start < end:\n",
    "        if not str[start].isalnum():\n",
    "            start += 1\n",
    "            continue\n",
    "        \n",
    "        if not str[end].isalnum():\n",
    "            end -= 1\n",
    "            continue\n",
    "        \n",
    "        if str[start] == str[end]:\n",
    "            start += 1\n",
    "            end -= 1\n",
    "        else: \n",
    "            return False   \n",
    "\n",
    "    return True\n",
    "\n",
    "str = \"A man, a plan, a canal: Panama\"\n",
    "valid_palindromme(str=str)\n",
    "\n"
   ]
  }
 ],
 "metadata": {
  "kernelspec": {
   "display_name": "Python 3",
   "language": "python",
   "name": "python3"
  },
  "language_info": {
   "codemirror_mode": {
    "name": "ipython",
    "version": 3
   },
   "file_extension": ".py",
   "mimetype": "text/x-python",
   "name": "python",
   "nbconvert_exporter": "python",
   "pygments_lexer": "ipython3",
   "version": "3.12.8"
  }
 },
 "nbformat": 4,
 "nbformat_minor": 2
}
