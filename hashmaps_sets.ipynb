{
 "cells": [
  {
   "cell_type": "markdown",
   "metadata": {},
   "source": [
    "### Jewels and Stones"
   ]
  },
  {
   "cell_type": "code",
   "execution_count": null,
   "metadata": {},
   "outputs": [],
   "source": [
    "class Solution:\n",
    "    def numJewelsInStones(self, jewels: str, stones: str) -> int:\n",
    "        jewels = set(jewels)\n",
    "        \n",
    "        ans = 0\n",
    "        for stone in stones:\n",
    "            if stone in jewels:\n",
    "                ans += 1\n",
    "        \n",
    "        return ans"
   ]
  },
  {
   "cell_type": "markdown",
   "metadata": {},
   "source": [
    "### Contains Duplicate"
   ]
  },
  {
   "cell_type": "code",
   "execution_count": null,
   "metadata": {},
   "outputs": [],
   "source": [
    "class Solution:\n",
    "    def containsDuplicate(self, nums: List[int]) -> bool:\n",
    "        nset = set()\n",
    "\n",
    "        for num in nums:\n",
    "            if num in nset:\n",
    "                return True\n",
    "            else:\n",
    "                nset.add(num)\n",
    "\n",
    "        return False            "
   ]
  },
  {
   "cell_type": "markdown",
   "metadata": {},
   "source": [
    "### Ransom Note"
   ]
  },
  {
   "cell_type": "code",
   "execution_count": null,
   "metadata": {},
   "outputs": [],
   "source": [
    "class Solution:\n",
    "    def canConstruct(self, ransomNote: str, magazine: str) -> bool:\n",
    "        l_dict = {}\n",
    "\n",
    "        for c in magazine:\n",
    "            if c in l_dict:\n",
    "                l_dict[c] += 1 \n",
    "            else:\n",
    "                l_dict[c] = 1\n",
    "\n",
    "\n",
    "        for c in ransomNote:\n",
    "            if c in l_dict and l_dict[c] > 0:\n",
    "                l_dict[c] -= 1\n",
    "            else:\n",
    "                return False                \n",
    "\n",
    "        return True"
   ]
  },
  {
   "cell_type": "markdown",
   "metadata": {},
   "source": [
    "### Valid Anagram"
   ]
  },
  {
   "cell_type": "code",
   "execution_count": null,
   "metadata": {},
   "outputs": [],
   "source": [
    "class Solution:\n",
    "    def isAnagram(self, s: str, t: str) -> bool:\n",
    "        sn = len(s)\n",
    "        tn = len(t)\n",
    "\n",
    "        if(sn != tn): return False\n",
    "        \n",
    "        s_counter = {}\n",
    "        t_counter = {}\n",
    "\n",
    "        for (sc, tc) in zip(s, t):\n",
    "            if sc in s_counter:\n",
    "                s_counter[sc] += 1\n",
    "            else:\n",
    "                s_counter[sc] = 1\n",
    "            \n",
    "            if tc in t_counter:\n",
    "                t_counter[tc] += 1\n",
    "            else:\n",
    "                t_counter[tc] = 1\n",
    "\n",
    "        return s_counter == t_counter        "
   ]
  },
  {
   "cell_type": "markdown",
   "metadata": {},
   "source": [
    "### Maximum Number of Balloons"
   ]
  },
  {
   "cell_type": "code",
   "execution_count": null,
   "metadata": {},
   "outputs": [],
   "source": [
    "class Solution:\n",
    "    def maxNumberOfBalloons(self, text: str) -> int:\n",
    "        balloon = \"balloon\" \n",
    "        b_counter = {}\n",
    "        for c in balloon:\n",
    "            if c in b_counter:\n",
    "                b_counter[c] += 1\n",
    "            else:\n",
    "                b_counter[c] = 1\n",
    " \n",
    "        w_counter = {}\n",
    "        for c in text:\n",
    "            if c not in b_counter:\n",
    "                continue\n",
    "            elif c in w_counter:\n",
    "                w_counter[c] += 1\n",
    "            else:\n",
    "                w_counter[c] = 1\n",
    " \n",
    "        if len(w_counter) != len(b_counter):\n",
    "            return 0\n",
    "\n",
    "        for k in w_counter:\n",
    "            w_counter[k] = w_counter[k] // b_counter[k]\n",
    "        \n",
    "        return min(w_counter.values())                 "
   ]
  },
  {
   "cell_type": "markdown",
   "metadata": {},
   "source": [
    "### Two Sum"
   ]
  },
  {
   "cell_type": "code",
   "execution_count": null,
   "metadata": {},
   "outputs": [],
   "source": [
    "class Solution:\n",
    "    def twoSum(self, nums: List[int], target: int) -> List[int]:\n",
    "        n_set = {}\n",
    "\n",
    "        for i, num in enumerate(nums):\n",
    "            n_set[num] = i\n",
    "\n",
    "        for i, num in enumerate(nums):\n",
    "            cur = target - num\n",
    "            if cur in n_set and n_set[cur] != i:\n",
    "                return [i, n_set[cur]]        "
   ]
  },
  {
   "cell_type": "markdown",
   "metadata": {},
   "source": [
    "### Valid Sudoku"
   ]
  },
  {
   "cell_type": "code",
   "execution_count": null,
   "metadata": {},
   "outputs": [],
   "source": [
    "class Solution:\n",
    "    def isValidSudoku(self, board: List[List[str]]) -> bool:\n",
    "        # Validate Rows\n",
    "        for i in range(9):\n",
    "            r_seen = set()\n",
    "            for j in range(9):\n",
    "                el = board[i][j] \n",
    "                if el in r_seen:\n",
    "                    return False\n",
    "                elif el != \".\":\n",
    "                    r_seen.add(el)\n",
    "\n",
    "       \n",
    "        # Validate Columns\n",
    "        for j in range(9):\n",
    "            c_seen = set()\n",
    "            for i in range(9):\n",
    "                el = board[i][j] \n",
    "                if el in c_seen:\n",
    "                    return False\n",
    "                elif el != \".\":\n",
    "                    c_seen.add(el)\n",
    "\n",
    "        starts = [(0, 0), (0, 3), (0, 6), \n",
    "                  (3, 0), (3, 3), (3, 6), \n",
    "                  (6, 0), (6, 3), (6, 6)]\n",
    "\n",
    "        for start in starts:\n",
    "            b_seen = set()\n",
    "            \n",
    "            for i in range(start[0], start[0]+3):\n",
    "                for j in range(start[1], start[1]+3):\n",
    "                    el = board[i][j]\n",
    "                    if el in b_seen:\n",
    "                        return False\n",
    "                    elif el != \".\":\n",
    "                        b_seen.add(el)          \n",
    "\n",
    "        return True"
   ]
  },
  {
   "cell_type": "markdown",
   "metadata": {},
   "source": [
    "### Group Anagrams"
   ]
  },
  {
   "cell_type": "code",
   "execution_count": null,
   "metadata": {},
   "outputs": [],
   "source": [
    "from collections import defaultdict\n",
    "class Solution:\n",
    "    def groupAnagrams(self, strs: List[str]) -> List[List[str]]:\n",
    "        anagram_dict = defaultdict(list)\n",
    "\n",
    "        for s in strs:\n",
    "            counters = [0]*26\n",
    "            for c in s:\n",
    "                counters[ord(c) - ord('a')] += 1\n",
    "            \n",
    "            s_counters = tuple(counters)\n",
    "            anagram_dict[s_counters].append(s)\n",
    "            \n",
    "        return [val for val in anagram_dict.values()]                        "
   ]
  },
  {
   "cell_type": "markdown",
   "metadata": {},
   "source": [
    "### Majority Element"
   ]
  },
  {
   "cell_type": "code",
   "execution_count": null,
   "metadata": {},
   "outputs": [],
   "source": [
    "class Solution:\n",
    "    def majorityElement(self, nums: List[int]) -> int:\n",
    "        count = 0\n",
    "        ans = None\n",
    "\n",
    "        for num in nums: \n",
    "            if count == 0:\n",
    "                ans = num\n",
    "\n",
    "            if ans == num:\n",
    "                count += 1\n",
    "            else:\n",
    "                count -= 1\n",
    "        \n",
    "        return ans            "
   ]
  },
  {
   "cell_type": "markdown",
   "metadata": {},
   "source": [
    "### Longest Consecutive Sequence"
   ]
  },
  {
   "cell_type": "code",
   "execution_count": null,
   "metadata": {},
   "outputs": [],
   "source": [
    "class Solution:\n",
    "    def longestConsecutive(self, nums: List[int]) -> int:\n",
    "        s = set(nums)\n",
    "        l = 0\n",
    "\n",
    "        for num in s:\n",
    "            if num - 1 not in s:\n",
    "                next_num = num + 1\n",
    "                cur_l = 1\n",
    "                while next_num in s:\n",
    "                    cur_l += 1\n",
    "                    next_num += 1\n",
    "                l = max(cur_l, l)\n",
    "\n",
    "        return l        "
   ]
  }
 ],
 "metadata": {
  "kernelspec": {
   "display_name": "Python 3",
   "language": "python",
   "name": "python3"
  },
  "language_info": {
   "codemirror_mode": {
    "name": "ipython",
    "version": 3
   },
   "file_extension": ".py",
   "mimetype": "text/x-python",
   "name": "python",
   "nbconvert_exporter": "python",
   "pygments_lexer": "ipython3",
   "version": "3.12.9"
  }
 },
 "nbformat": 4,
 "nbformat_minor": 2
}
