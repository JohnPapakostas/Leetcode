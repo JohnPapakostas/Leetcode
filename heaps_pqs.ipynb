{
 "cells": [
  {
   "cell_type": "markdown",
   "metadata": {},
   "source": [
    "### Heaps Pqs Theory"
   ]
  },
  {
   "cell_type": "markdown",
   "metadata": {},
   "source": [
    "### Build Min Heap (Heapify) T: O(n), S: O(1)"
   ]
  },
  {
   "cell_type": "code",
   "execution_count": 15,
   "metadata": {},
   "outputs": [
    {
     "data": {
      "text/plain": [
       "[-4, 0, 1, 3, 2, 5, 10, 8, 12, 9]"
      ]
     },
     "execution_count": 15,
     "metadata": {},
     "output_type": "execute_result"
    }
   ],
   "source": [
    "A = [-4, 3, 1, 0, 2, 5, 10, 8, 12, 9]\n",
    "import heapq\n",
    "heapq.heapify(A)\n",
    "A"
   ]
  },
  {
   "cell_type": "markdown",
   "metadata": {},
   "source": [
    "### Heap Push (Insert element) T: O(log n)"
   ]
  },
  {
   "cell_type": "code",
   "execution_count": 16,
   "metadata": {},
   "outputs": [
    {
     "data": {
      "text/plain": [
       "[-5, -4, 1, 3, 0, 5, 10, 8, 12, 9, 2]"
      ]
     },
     "execution_count": 16,
     "metadata": {},
     "output_type": "execute_result"
    }
   ],
   "source": [
    "heapq.heappush(A, -5)\n",
    "A"
   ]
  },
  {
   "cell_type": "markdown",
   "metadata": {},
   "source": [
    "### Heap Pop (Extract minimum element) T: O(log n)"
   ]
  },
  {
   "cell_type": "code",
   "execution_count": 17,
   "metadata": {},
   "outputs": [
    {
     "data": {
      "text/plain": [
       "([-4, 0, 1, 3, 2, 5, 10, 8, 12, 9], -5)"
      ]
     },
     "execution_count": 17,
     "metadata": {},
     "output_type": "execute_result"
    }
   ],
   "source": [
    "minn = heapq.heappop(A)\n",
    "A, minn"
   ]
  },
  {
   "cell_type": "markdown",
   "metadata": {},
   "source": [
    "### Heap Sort T: O(n logn), S: O(n)"
   ]
  },
  {
   "cell_type": "code",
   "execution_count": 18,
   "metadata": {},
   "outputs": [
    {
     "data": {
      "text/plain": [
       "[-1, 0, 1, 2, 4, 5, 6, 7, 8, 9]"
      ]
     },
     "execution_count": 18,
     "metadata": {},
     "output_type": "execute_result"
    }
   ],
   "source": [
    "def heapsort(arr):\n",
    "    heapq.heapify(arr)\n",
    "    n = len(arr)\n",
    "    \n",
    "    sorted_arr = []\n",
    "    for _ in range(n):\n",
    "        sorted_arr.append(heapq.heappop(arr))\n",
    "\n",
    "    return sorted_arr\n",
    "\n",
    "heapsort([1, 5, 4, -1, 7, 9, 2, 8, 6, 0])"
   ]
  },
  {
   "cell_type": "markdown",
   "metadata": {},
   "source": [
    "### Heap Push Pop T: O(log n)"
   ]
  },
  {
   "cell_type": "code",
   "execution_count": 19,
   "metadata": {},
   "outputs": [
    {
     "data": {
      "text/plain": [
       "([0, 2, 1, 3, 9, 5, 10, 8, 12, 99], -4)"
      ]
     },
     "execution_count": 19,
     "metadata": {},
     "output_type": "execute_result"
    }
   ],
   "source": [
    "minn = heapq.heappushpop(A, 99)\n",
    "A, minn "
   ]
  },
  {
   "cell_type": "markdown",
   "metadata": {},
   "source": [
    "### Peak at Min T: O(1)"
   ]
  },
  {
   "cell_type": "code",
   "execution_count": 20,
   "metadata": {},
   "outputs": [
    {
     "data": {
      "text/plain": [
       "0"
      ]
     },
     "execution_count": 20,
     "metadata": {},
     "output_type": "execute_result"
    }
   ],
   "source": [
    "A[0]"
   ]
  },
  {
   "cell_type": "markdown",
   "metadata": {},
   "source": [
    "### Max Heap "
   ]
  },
  {
   "cell_type": "code",
   "execution_count": 21,
   "metadata": {},
   "outputs": [
    {
     "data": {
      "text/plain": [
       "[-12, -9, -10, -8, -2, -5, -1, -3, 0, 4]"
      ]
     },
     "execution_count": 21,
     "metadata": {},
     "output_type": "execute_result"
    }
   ],
   "source": [
    "B = [-4, 3, 1, 0 , 2, 5, 10, 8, 12, 9 ]\n",
    "B = [-B[i] for i in range(len(B))]\n",
    "heapq.heapify(B)\n",
    "B"
   ]
  },
  {
   "cell_type": "markdown",
   "metadata": {},
   "source": [
    "### Find Maximum"
   ]
  },
  {
   "cell_type": "code",
   "execution_count": 22,
   "metadata": {},
   "outputs": [
    {
     "data": {
      "text/plain": [
       "12"
      ]
     },
     "execution_count": 22,
     "metadata": {},
     "output_type": "execute_result"
    }
   ],
   "source": [
    "maxx = -heapq.heappop(B)\n",
    "maxx"
   ]
  },
  {
   "cell_type": "markdown",
   "metadata": {},
   "source": [
    "### Insert in Max Heap"
   ]
  },
  {
   "cell_type": "code",
   "execution_count": 23,
   "metadata": {},
   "outputs": [],
   "source": [
    "elem = 7\n",
    "heapq.heappush(B, -elem)"
   ]
  },
  {
   "cell_type": "markdown",
   "metadata": {},
   "source": [
    "### Build Heap from scratch T: O(n log n)"
   ]
  },
  {
   "cell_type": "code",
   "execution_count": 24,
   "metadata": {},
   "outputs": [
    {
     "name": "stdout",
     "output_type": "stream",
     "text": [
      "[-5] 1\n",
      "[-5, 4] 2\n",
      "[-5, 4, 2] 3\n",
      "[-5, 1, 2, 4] 4\n",
      "[-5, 1, 2, 4, 7] 5\n",
      "[-5, 1, 0, 4, 7, 2] 6\n",
      "[-5, 1, 0, 4, 7, 2, 3] 7\n"
     ]
    }
   ],
   "source": [
    "C = [-5, 4, 2, 1, 7, 0, 3]\n",
    "heap = []\n",
    "\n",
    "for x in C:\n",
    "    heapq.heappush(heap, x)\n",
    "    print(heap, len(heap))"
   ]
  },
  {
   "cell_type": "markdown",
   "metadata": {},
   "source": [
    "### Putting Tuples of Items on the Heap"
   ]
  },
  {
   "cell_type": "code",
   "execution_count": 25,
   "metadata": {},
   "outputs": [],
   "source": [
    "D = [5, 4, 3, 5, 4, 3, 5, 5, 4]\n",
    "\n",
    "from collections import Counter\n",
    "counter = Counter(D)"
   ]
  },
  {
   "cell_type": "markdown",
   "metadata": {},
   "source": [
    "### Sort min frequencies"
   ]
  },
  {
   "cell_type": "code",
   "execution_count": 26,
   "metadata": {},
   "outputs": [
    {
     "data": {
      "text/plain": [
       "[(2, 3), (4, 5), (3, 4)]"
      ]
     },
     "execution_count": 26,
     "metadata": {},
     "output_type": "execute_result"
    }
   ],
   "source": [
    "heap = []\n",
    "\n",
    "for k, v in counter.items():\n",
    "    heapq.heappush(heap, (v, k))\n",
    "\n",
    "heap"
   ]
  },
  {
   "cell_type": "markdown",
   "metadata": {},
   "source": [
    "### Leetcode Problems"
   ]
  },
  {
   "cell_type": "markdown",
   "metadata": {},
   "source": [
    "### Last Stone Weight"
   ]
  },
  {
   "cell_type": "code",
   "execution_count": null,
   "metadata": {},
   "outputs": [],
   "source": [
    "import heapq\n",
    "class Solution:\n",
    "    def lastStoneWeight(self, stones: List[int]) -> int:\n",
    "        stones = [-stone for stone in stones]\n",
    "        heapq.heapify(stones)\n",
    "\n",
    "        while len(stones) > 1:\n",
    "            stone1 = heapq.heappop(stones)\n",
    "            stone2 = heapq.heappop(stones)\n",
    "\n",
    "            if stone1 != stone2:\n",
    "                heapq.heappush(stones, stone1 - stone2)\n",
    "        \n",
    "        return -stones[0] if stones else 0   "
   ]
  },
  {
   "cell_type": "markdown",
   "metadata": {},
   "source": [
    "### Kth Largest Element in an Array"
   ]
  },
  {
   "cell_type": "code",
   "execution_count": null,
   "metadata": {},
   "outputs": [],
   "source": [
    "class Solution:\n",
    "    def findKthLargest(self, nums: List[int], k: int) -> int:\n",
    "        heap = []\n",
    "\n",
    "        for num in nums:\n",
    "            if len(heap) < k:\n",
    "                heapq.heappush(heap, num)\n",
    "            else:\n",
    "                heapq.heappushpop(heap, num)\n",
    "\n",
    "        return heap[0]      "
   ]
  },
  {
   "cell_type": "markdown",
   "metadata": {},
   "source": [
    "### Top K Frequent Elements"
   ]
  },
  {
   "cell_type": "code",
   "execution_count": null,
   "metadata": {},
   "outputs": [],
   "source": [
    "from collections import Counter\n",
    "class Solution:\n",
    "    def topKFrequent(self, nums: List[int], k: int) -> List[int]:\n",
    "        freqs = [[]] * len(nums)\n",
    "        counters = Counter(nums) \n",
    "        to_Return = []\n",
    "\n",
    "        for key,value in counters.items():\n",
    "            if not freqs[value-1]:\n",
    "                freqs[value-1] = [key]\n",
    "            else:\n",
    "                freqs[value-1].append(key)\n",
    "\n",
    "        for i in reversed(range(len(nums))):\n",
    "            if not freqs[i]:\n",
    "                continue\n",
    "            for elem in freqs[i]:\n",
    "                to_Return.append(elem)\n",
    "                if len(to_Return) == k: return to_Return  "
   ]
  },
  {
   "cell_type": "markdown",
   "metadata": {},
   "source": [
    "### K Closest Points to Origin"
   ]
  },
  {
   "cell_type": "code",
   "execution_count": null,
   "metadata": {},
   "outputs": [],
   "source": [
    "from math import sqrt\n",
    "import heapq\n",
    "class Solution:\n",
    "    def kClosest(self, points: List[List[int]], k: int) -> List[List[int]]:\n",
    "        heap = []\n",
    "\n",
    "        for point in points:\n",
    "            dist = -sqrt(point[0]**2 + point[1]**2)\n",
    "            \n",
    "            if len(heap) < k:\n",
    "                heapq.heappush(heap, (dist, point))\n",
    "            else:\n",
    "                heapq.heappushpop(heap, (dist, point))\n",
    "\n",
    "        return [point for (_, point) in heap]             "
   ]
  },
  {
   "cell_type": "markdown",
   "metadata": {},
   "source": [
    "### Merge K Sorted Linked Lists"
   ]
  },
  {
   "cell_type": "code",
   "execution_count": null,
   "metadata": {},
   "outputs": [],
   "source": [
    "# Definition for singly-linked list.\n",
    "# class ListNode:\n",
    "#     def __init__(self, val=0, next=None):\n",
    "#         self.val = val\n",
    "#         self.next = next\n",
    "import heapq\n",
    "class Solution:\n",
    "    def mergeKLists(self, lists: List[Optional[ListNode]]) -> Optional[ListNode]:\n",
    "        heap = []\n",
    "\n",
    "        for i, node in enumerate(lists):\n",
    "            if node: \n",
    "                heapq.heappush(heap, (node.val, i, node))\n",
    "\n",
    "        D = ListNode()\n",
    "        cur = D\n",
    "\n",
    "        while heap:\n",
    "            val, i, node = heapq.heappop(heap)\n",
    "            cur.next = node\n",
    "            cur = node\n",
    "            node = node.next\n",
    "            if node:\n",
    "                heapq.heappush(heap, (node.val, i, node))\n",
    "\n",
    "        return D.next                 "
   ]
  }
 ],
 "metadata": {
  "kernelspec": {
   "display_name": "Python 3",
   "language": "python",
   "name": "python3"
  },
  "language_info": {
   "codemirror_mode": {
    "name": "ipython",
    "version": 3
   },
   "file_extension": ".py",
   "mimetype": "text/x-python",
   "name": "python",
   "nbconvert_exporter": "python",
   "pygments_lexer": "ipython3",
   "version": "3.12.9"
  }
 },
 "nbformat": 4,
 "nbformat_minor": 2
}
