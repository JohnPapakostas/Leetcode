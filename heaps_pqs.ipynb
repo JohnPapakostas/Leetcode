{
 "cells": [
  {
   "cell_type": "markdown",
   "metadata": {},
   "source": [
    "### HEAPS PQS THEORY"
   ]
  },
  {
   "cell_type": "code",
   "execution_count": null,
   "metadata": {},
   "outputs": [],
   "source": [
    "# Build Min Heap (Heapify)\n",
    "# T: O(n), S: O(1)\n",
    "\n",
    "A = [-4, 3, 1, 0, 2, 5, 10, 8, 12, 9]\n",
    "import heapq\n",
    "heapq.heapify(A)\n",
    "A"
   ]
  },
  {
   "cell_type": "code",
   "execution_count": null,
   "metadata": {},
   "outputs": [],
   "source": [
    "# Heap Push (Insert element) \n",
    "# T: O(log n)\n",
    "\n",
    "heapq.heappush(A, -5)\n",
    "A"
   ]
  },
  {
   "cell_type": "code",
   "execution_count": null,
   "metadata": {},
   "outputs": [],
   "source": [
    "# Heap Pop (Extract minimum element) \n",
    "# T: O(log n)\n",
    "\n",
    "minn = heapq.heappop(A)\n",
    "A, minn"
   ]
  },
  {
   "cell_type": "code",
   "execution_count": null,
   "metadata": {},
   "outputs": [],
   "source": [
    "# Heap Sort\n",
    "# T: O(n logn), S: O(n)\n",
    "\n",
    "def heapsort(arr):\n",
    "    heapq.heapify(arr)\n",
    "    n = len(arr)\n",
    "    \n",
    "    sorted_arr = []\n",
    "    for _ in range(n):\n",
    "        sorted_arr.append(heapq.heappop(arr))\n",
    "\n",
    "    return sorted_arr\n",
    "\n",
    "heapsort([1, 5, 4, -1, 7, 9, 2, 8, 6, 0])"
   ]
  },
  {
   "cell_type": "code",
   "execution_count": null,
   "metadata": {},
   "outputs": [],
   "source": [
    "# Heap Push Pop \n",
    "# T: O(log n)\n",
    "\n",
    "minn = heapq.heappushpop(A, 99)\n",
    "A, minn "
   ]
  },
  {
   "cell_type": "code",
   "execution_count": null,
   "metadata": {},
   "outputs": [],
   "source": [
    "# Peak at Min\n",
    "# T: O(1)\n",
    "A[0]"
   ]
  },
  {
   "cell_type": "code",
   "execution_count": null,
   "metadata": {},
   "outputs": [],
   "source": [
    "# Max Heap \n",
    "\n",
    "B = [-4, 3, 1, 0 , 2, 5, 10, 8, 12, 9 ]\n",
    "B = [-B[i] for i in range(len(B))]\n",
    "heapq.heapify(B)\n",
    "B\n"
   ]
  },
  {
   "cell_type": "code",
   "execution_count": null,
   "metadata": {},
   "outputs": [],
   "source": [
    "# Find Maximum\n",
    "\n",
    "maxx = -heapq.heappop(B)\n",
    "maxx"
   ]
  },
  {
   "cell_type": "code",
   "execution_count": 65,
   "metadata": {},
   "outputs": [],
   "source": [
    "# Insert in Max Heap\n",
    "\n",
    "elem = 7\n",
    "heapq.heappush(B, -elem)"
   ]
  },
  {
   "cell_type": "code",
   "execution_count": null,
   "metadata": {},
   "outputs": [],
   "source": [
    "# Build Heap from scratch\n",
    "# T: O(n log n)\n",
    "\n",
    "C = [-5, 4, 2, 1, 7, 0, 3]\n",
    "heap = []\n",
    "\n",
    "for x in C:\n",
    "    heapq.heappush(heap, x)\n",
    "    print(heap, len(heap))"
   ]
  },
  {
   "cell_type": "code",
   "execution_count": 67,
   "metadata": {},
   "outputs": [],
   "source": [
    "# Putting Tuples of Items on the Heap\n",
    "\n",
    "D = [5, 4, 3, 5, 4, 3, 5, 5, 4]\n",
    "\n",
    "from collections import Counter\n",
    "counter = Counter(D)"
   ]
  },
  {
   "cell_type": "code",
   "execution_count": null,
   "metadata": {},
   "outputs": [],
   "source": [
    "# Sort min frequencies\n",
    "heap = []\n",
    "\n",
    "for k, v in counter.items():\n",
    "    heapq.heappush(heap, (v, k))\n",
    "\n",
    "heap"
   ]
  },
  {
   "cell_type": "markdown",
   "metadata": {},
   "source": [
    "### LEETCODE PROBLEMS"
   ]
  },
  {
   "cell_type": "markdown",
   "metadata": {},
   "source": [
    "### LAST STONE WEIGHT"
   ]
  },
  {
   "cell_type": "code",
   "execution_count": 69,
   "metadata": {},
   "outputs": [],
   "source": [
    "import heapq\n",
    "\n",
    "def lastStoneWeight(stones):\n",
    "    stones = [-stone for stone in stones]\n",
    "    heapq.heapify(stones)\n",
    "    while len(stones) > 1:\n",
    "        stone1 = heapq.heappop(stones)\n",
    "        stone2 = heapq.heappop(stones)\n",
    "        if stone1 != stone2:\n",
    "            heapq.heappush(stones, stone1 - stone2)\n",
    "    \n",
    "    return -stones[0] if stones else 0   "
   ]
  },
  {
   "cell_type": "markdown",
   "metadata": {},
   "source": [
    "### KTH LARGEST ELEMENT"
   ]
  },
  {
   "cell_type": "code",
   "execution_count": 70,
   "metadata": {},
   "outputs": [],
   "source": [
    "def findKthLargest(nums, k):\n",
    "    heap = []\n",
    "\n",
    "    for num in nums:\n",
    "        if len(heap) < k:\n",
    "            heapq.heappush(heap, num)\n",
    "        else:\n",
    "            heapq.heappushpop(heap, num)\n",
    "\n",
    "    return heap[0]      "
   ]
  },
  {
   "cell_type": "markdown",
   "metadata": {},
   "source": [
    "### TOP K FREQUENT ELEMENTS"
   ]
  },
  {
   "cell_type": "code",
   "execution_count": null,
   "metadata": {},
   "outputs": [],
   "source": [
    "# T: O(nlogk), S: O(n)\n",
    "\n",
    "def topKFrequent(nums, k):\n",
    "    heap = []\n",
    "    counters = Counter(nums) \n",
    "\n",
    "    for key,value in counters.items():\n",
    "        if len(heap) < k:\n",
    "            heapq.heappush(heap, (value, key))\n",
    "        else:\n",
    "            heapq.heappushpop(heap, (value, key))\n",
    "\n",
    "    return [value for (freq, value) in heap]  \n",
    "\n",
    "\n",
    "# T: O(n), S: O(n)\n",
    "nums = [1,1,1,2,2,3]\n",
    "k = 2\n",
    "def fast_topKFrequent(nums, k):\n",
    "    freqs = [[]] * len(nums)\n",
    "    counters = Counter(nums) \n",
    "    to_Return = []\n",
    "\n",
    "    for key,value in counters.items():\n",
    "        if not freqs[value-1]:\n",
    "            freqs[value-1] = [key]\n",
    "        else:\n",
    "            freqs[value-1].append(key)\n",
    "\n",
    "    for i in reversed(range(len(nums))):\n",
    "        if not freqs[i]:\n",
    "            continue\n",
    "        for elem in freqs[i]:\n",
    "            to_Return.append(elem)    \n",
    "            if len(to_Return) == k: return to_Return\n",
    "\n",
    "fast_topKFrequent(nums, k) "
   ]
  },
  {
   "cell_type": "markdown",
   "metadata": {},
   "source": [
    "### K CLOSEST POINTS TO ORIGIN"
   ]
  },
  {
   "cell_type": "code",
   "execution_count": 72,
   "metadata": {},
   "outputs": [],
   "source": [
    "from math import sqrt\n",
    "def kClosest(points, k):\n",
    "    heap = []\n",
    "\n",
    "    for point in points:\n",
    "        dist = -sqrt(point[0]**2 + point[1]**2)\n",
    "        \n",
    "        if len(heap) < k:\n",
    "            heapq.heappush(heap, (dist, point))\n",
    "        else:\n",
    "            heapq.heappushpop(heap, (dist, point))\n",
    "\n",
    "    return [point for (_, point) in heap] "
   ]
  },
  {
   "cell_type": "markdown",
   "metadata": {},
   "source": [
    "### MERGE K SORTED LISTS"
   ]
  },
  {
   "cell_type": "code",
   "execution_count": 73,
   "metadata": {},
   "outputs": [],
   "source": [
    "import heapq\n",
    "\n",
    "class ListNode(object):\n",
    "     def __init__(self, val=0, next=None):\n",
    "         self.val = val\n",
    "         self.next = next\n",
    "\n",
    "def mergeKLists(lists):\n",
    "    heap = []\n",
    "\n",
    "    for i, node in enumerate(lists):\n",
    "        if node: \n",
    "            heapq.heappush(heap, (node.val, i, node))\n",
    "\n",
    "    D = ListNode()\n",
    "    cur = D\n",
    "\n",
    "    while heap:\n",
    "        val, i, node = heapq.heappop(heap)\n",
    "        cur.next = node\n",
    "        cur = node\n",
    "        node = node.next\n",
    "        if node:\n",
    "            heapq.heappush(heap, (node.val, i, node))\n",
    "\n",
    "    return D.next                 "
   ]
  }
 ],
 "metadata": {
  "kernelspec": {
   "display_name": "Python 3",
   "language": "python",
   "name": "python3"
  },
  "language_info": {
   "codemirror_mode": {
    "name": "ipython",
    "version": 3
   },
   "file_extension": ".py",
   "mimetype": "text/x-python",
   "name": "python",
   "nbconvert_exporter": "python",
   "pygments_lexer": "ipython3",
   "version": "3.12.8"
  }
 },
 "nbformat": 4,
 "nbformat_minor": 2
}
