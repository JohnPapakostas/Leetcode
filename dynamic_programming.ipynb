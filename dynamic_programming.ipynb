{
 "cells": [
  {
   "cell_type": "markdown",
   "metadata": {},
   "source": [
    "### Dynamic Programming Theory"
   ]
  },
  {
   "cell_type": "markdown",
   "metadata": {},
   "source": [
    "### Naive Recursion T: O(2**n), S: O(1)"
   ]
  },
  {
   "cell_type": "code",
   "execution_count": null,
   "metadata": {},
   "outputs": [
    {
     "data": {
      "text/plain": [
       "13"
      ]
     },
     "execution_count": 17,
     "metadata": {},
     "output_type": "execute_result"
    }
   ],
   "source": [
    "def fib(n):\n",
    "    if n == 0: return 0\n",
    "    if n == 1: return 1\n",
    "\n",
    "    return fib(n-1) + fib(n-2)\n",
    "\n",
    "fib(7)"
   ]
  },
  {
   "cell_type": "markdown",
   "metadata": {},
   "source": [
    "### Top - Down Dynamic Programming Memoization T: O(n), S: O(n)"
   ]
  },
  {
   "cell_type": "code",
   "execution_count": null,
   "metadata": {},
   "outputs": [
    {
     "data": {
      "text/plain": [
       "354224848179261915075"
      ]
     },
     "execution_count": 2,
     "metadata": {},
     "output_type": "execute_result"
    }
   ],
   "source": [
    "memory = {0: 0, 1: 1}\n",
    "\n",
    "def fib(n):  \n",
    "    if n not in memory:\n",
    "        memory[n] = fib(n-1) + fib(n-2)\n",
    "    \n",
    "    return memory[n]\n",
    " \n",
    "fib(7)"
   ]
  },
  {
   "cell_type": "markdown",
   "metadata": {},
   "source": [
    "### Bottom - Up Dynamic Programming Tabulation T: O(n), S: O(n)"
   ]
  },
  {
   "cell_type": "code",
   "execution_count": null,
   "metadata": {},
   "outputs": [
    {
     "data": {
      "text/plain": [
       "13"
      ]
     },
     "execution_count": 16,
     "metadata": {},
     "output_type": "execute_result"
    }
   ],
   "source": [
    "def fib(n):\n",
    "    if n == 0: return 0\n",
    "    if n == 1: return 1\n",
    "    \n",
    "    table = [0] * (n + 1)\n",
    "    table[1] = 1\n",
    "\n",
    "    for i in range(2, n+1):\n",
    "        table[i] = table[i-2] + table[i-1]\n",
    "    \n",
    "    return table[n]\n",
    " \n",
    "fib(7)"
   ]
  },
  {
   "cell_type": "markdown",
   "metadata": {},
   "source": [
    "### Bottom - Up Dynamic Programming Tabulation T: O(n), S: O(1)"
   ]
  },
  {
   "cell_type": "code",
   "execution_count": null,
   "metadata": {},
   "outputs": [
    {
     "data": {
      "text/plain": [
       "13"
      ]
     },
     "execution_count": 19,
     "metadata": {},
     "output_type": "execute_result"
    }
   ],
   "source": [
    "def fib(n):\n",
    "    if n == 0: return 0\n",
    "    if n == 1: return 1\n",
    "    \n",
    "    prev, cur = 0, 1\n",
    "    for i in range(2, n+1):\n",
    "        prev, cur = cur, prev + cur\n",
    "    \n",
    "    return cur\n",
    " \n",
    "fib(7)"
   ]
  },
  {
   "cell_type": "markdown",
   "metadata": {},
   "source": [
    "### Fibonacci Number"
   ]
  },
  {
   "cell_type": "code",
   "execution_count": 3,
   "metadata": {},
   "outputs": [],
   "source": [
    "class Solution:\n",
    "    def fib(self, n: int) -> int:\n",
    "        if n == 0: return 0\n",
    "        if n == 1: return 1\n",
    "\n",
    "        prev, cur = 0, 1\n",
    "        for i in range(2, n+1):\n",
    "            prev, cur = cur, prev + cur\n",
    "\n",
    "        return cur"
   ]
  },
  {
   "cell_type": "markdown",
   "metadata": {},
   "source": [
    "### Climbing Stairs"
   ]
  },
  {
   "cell_type": "code",
   "execution_count": null,
   "metadata": {},
   "outputs": [],
   "source": [
    "class Solution:\n",
    "    def climbStairs(self, n: int) -> int:\n",
    "        if n == 1: return 1 \n",
    "        if n == 2: return 2\n",
    "\n",
    "        prev, cur = 1, 2\n",
    "\n",
    "        for i in range(2, n):\n",
    "            prev, cur = cur, prev + cur\n",
    "\n",
    "        return cur    "
   ]
  },
  {
   "cell_type": "markdown",
   "metadata": {},
   "source": [
    "### Min Cost Climbing Stairs"
   ]
  },
  {
   "cell_type": "code",
   "execution_count": null,
   "metadata": {},
   "outputs": [],
   "source": [
    "class Solution:\n",
    "    def minCostClimbingStairs(self, cost: List[int]) -> int:\n",
    "        n = len(cost)\n",
    "        prev, cur = 0, 0\n",
    "        \n",
    "        for i in range(2, n+1):\n",
    "            prev, cur = cur, min(prev + cost[i-2], cur + cost[i-1]) \n",
    "\n",
    "        return cur   "
   ]
  },
  {
   "cell_type": "markdown",
   "metadata": {},
   "source": [
    "### House Robber"
   ]
  },
  {
   "cell_type": "code",
   "execution_count": null,
   "metadata": {},
   "outputs": [],
   "source": [
    "class Solution:\n",
    "    def rob(self, nums: List[int]) -> int:\n",
    "        n = len(nums)\n",
    "        if n == 1: return nums[0]\n",
    "        \n",
    "        prev, curr = nums[0], max(nums[0], nums[1])\n",
    "        \n",
    "        for i in range(2, n):\n",
    "            prev, curr = curr, max(nums[i] + prev, curr)\n",
    "\n",
    "        return curr"
   ]
  },
  {
   "cell_type": "markdown",
   "metadata": {},
   "source": [
    "### Unique Paths"
   ]
  },
  {
   "cell_type": "code",
   "execution_count": null,
   "metadata": {},
   "outputs": [],
   "source": []
  },
  {
   "cell_type": "markdown",
   "metadata": {},
   "source": [
    "### Maximum Subarray (Kadane's Algorithm)\t"
   ]
  },
  {
   "cell_type": "code",
   "execution_count": null,
   "metadata": {},
   "outputs": [],
   "source": []
  },
  {
   "cell_type": "markdown",
   "metadata": {},
   "source": [
    "### Jump Game"
   ]
  },
  {
   "cell_type": "code",
   "execution_count": null,
   "metadata": {},
   "outputs": [],
   "source": []
  },
  {
   "cell_type": "markdown",
   "metadata": {},
   "source": [
    "### Coin Change"
   ]
  },
  {
   "cell_type": "code",
   "execution_count": null,
   "metadata": {},
   "outputs": [],
   "source": []
  },
  {
   "cell_type": "markdown",
   "metadata": {},
   "source": [
    "### Longest Increasing Subsequence"
   ]
  },
  {
   "cell_type": "code",
   "execution_count": null,
   "metadata": {},
   "outputs": [],
   "source": []
  },
  {
   "cell_type": "markdown",
   "metadata": {},
   "source": [
    "### Longest Common Subsequence"
   ]
  },
  {
   "cell_type": "code",
   "execution_count": null,
   "metadata": {},
   "outputs": [],
   "source": []
  }
 ],
 "metadata": {
  "kernelspec": {
   "display_name": "Python 3",
   "language": "python",
   "name": "python3"
  },
  "language_info": {
   "codemirror_mode": {
    "name": "ipython",
    "version": 3
   },
   "file_extension": ".py",
   "mimetype": "text/x-python",
   "name": "python",
   "nbconvert_exporter": "python",
   "pygments_lexer": "ipython3",
   "version": "3.12.9"
  }
 },
 "nbformat": 4,
 "nbformat_minor": 2
}
