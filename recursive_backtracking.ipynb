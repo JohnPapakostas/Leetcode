{
 "cells": [
  {
   "cell_type": "markdown",
   "metadata": {},
   "source": [
    "### Subsets"
   ]
  },
  {
   "cell_type": "code",
   "execution_count": null,
   "metadata": {},
   "outputs": [],
   "source": [
    "class Solution:\n",
    "    def subsets(self, nums: List[int]) -> List[List[int]]:\n",
    "        n = len(nums)\n",
    "        res, sol = [], []\n",
    "\n",
    "        def back_track(i):\n",
    "            if i == n:\n",
    "                res.append(sol[:])\n",
    "                return\n",
    "\n",
    "            # Don't pick nums[i]\n",
    "            back_track(i+1)\n",
    "            \n",
    "            # Pick nums[i]\n",
    "            sol.append(nums[i])\n",
    "            back_track(i+1)\n",
    "            sol.pop()\n",
    "\n",
    "        back_track(0)\n",
    "\n",
    "        return res"
   ]
  },
  {
   "cell_type": "markdown",
   "metadata": {},
   "source": [
    "### Permutations"
   ]
  },
  {
   "cell_type": "code",
   "execution_count": null,
   "metadata": {},
   "outputs": [],
   "source": [
    "class Solution:\n",
    "    def permute(self, nums: List[int]) -> List[List[int]]:\n",
    "        n = len(nums)\n",
    "        res, sol = [], []\n",
    "        def back_track():\n",
    "            if len(sol) == n:\n",
    "                res.append(sol[:])\n",
    "                return\n",
    "\n",
    "            for x in nums:\n",
    "                if x not in sol:\n",
    "                    sol.append(x)\n",
    "                    back_track()\n",
    "                    sol.pop()\n",
    "\n",
    "        back_track()\n",
    "\n",
    "        return res"
   ]
  },
  {
   "cell_type": "markdown",
   "metadata": {},
   "source": [
    "### Combinations"
   ]
  },
  {
   "cell_type": "code",
   "execution_count": null,
   "metadata": {},
   "outputs": [],
   "source": [
    "class Solution:\n",
    "    def combine(self, n: int, k: int) -> List[List[int]]:\n",
    "        res, sol = [], []\n",
    "\n",
    "        def back_track(x):\n",
    "            if len(sol) == k:\n",
    "                res.append(sol[:])\n",
    "                return\n",
    "\n",
    "            left = x\n",
    "            still_need = k - len(sol)\n",
    "\n",
    "            if x > still_need:\n",
    "               back_track(x-1)\n",
    "\n",
    "            sol.append(x)\n",
    "            back_track(x-1)\n",
    "            sol.pop()  \n",
    "\n",
    "        back_track(n)\n",
    "        return res"
   ]
  },
  {
   "cell_type": "markdown",
   "metadata": {},
   "source": [
    "### Combination Sum"
   ]
  },
  {
   "cell_type": "code",
   "execution_count": null,
   "metadata": {},
   "outputs": [],
   "source": [
    "class Solution:\n",
    "    def combinationSum(self, candidates: List[int], target: int) -> List[List[int]]:\n",
    "        res, sol = [], []\n",
    "        cs = candidates\n",
    "        n = len(cs)\n",
    "\n",
    "        def back_track(i, cur_sum):\n",
    "            if i == n or cur_sum > target:\n",
    "                return    \n",
    "            elif cur_sum == target:\n",
    "                res.append(sol[:])\n",
    "                return       \n",
    "\n",
    "            # Don't ever pick again i\n",
    "            back_track(i+1, cur_sum)\n",
    "\n",
    "            # Pick i again\n",
    "            sol.append(cs[i])\n",
    "            back_track(i, cur_sum + cs[i])\n",
    "            sol.pop()  \n",
    "\n",
    "        back_track(0, 0)\n",
    "        return res"
   ]
  },
  {
   "cell_type": "markdown",
   "metadata": {},
   "source": [
    "### Letter Combinations of a Phone Number"
   ]
  },
  {
   "cell_type": "code",
   "execution_count": null,
   "metadata": {},
   "outputs": [],
   "source": []
  },
  {
   "cell_type": "markdown",
   "metadata": {},
   "source": [
    "### Generate Parentheses"
   ]
  },
  {
   "cell_type": "code",
   "execution_count": null,
   "metadata": {},
   "outputs": [],
   "source": []
  },
  {
   "cell_type": "markdown",
   "metadata": {},
   "source": [
    "### Word Search"
   ]
  },
  {
   "cell_type": "code",
   "execution_count": null,
   "metadata": {},
   "outputs": [],
   "source": []
  }
 ],
 "metadata": {
  "kernelspec": {
   "display_name": "Python 3",
   "language": "python",
   "name": "python3"
  },
  "language_info": {
   "codemirror_mode": {
    "name": "ipython",
    "version": 3
   },
   "file_extension": ".py",
   "mimetype": "text/x-python",
   "name": "python",
   "nbconvert_exporter": "python",
   "pygments_lexer": "ipython3",
   "version": "3.12.9"
  }
 },
 "nbformat": 4,
 "nbformat_minor": 2
}
