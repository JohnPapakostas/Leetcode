{
 "cells": [
  {
   "cell_type": "markdown",
   "metadata": {},
   "source": [
    "### Find Closest Number to Zero"
   ]
  },
  {
   "cell_type": "code",
   "execution_count": null,
   "metadata": {},
   "outputs": [],
   "source": [
    "class Solution:\n",
    "    def findClosestNumber(self, nums: List[int]) -> int:\n",
    "        min = nums[0]\n",
    "        \n",
    "        for num in nums:\n",
    "            cur = abs(num)\n",
    "            if cur < abs(min):\n",
    "               min = num\n",
    "            elif cur == abs(min):\n",
    "                min = max(num,min)\n",
    "\n",
    "        return min"
   ]
  },
  {
   "cell_type": "markdown",
   "metadata": {},
   "source": [
    "### Merge Strings Alternately"
   ]
  },
  {
   "cell_type": "code",
   "execution_count": null,
   "metadata": {},
   "outputs": [],
   "source": [
    "class Solution:\n",
    "    def mergeAlternately(self, word1: str, word2: str) -> str:\n",
    "        toReturn = \"\"\n",
    "        for c1, c2 in zip(word1, word2):\n",
    "            toReturn += c1+c2\n",
    "\n",
    "        if len(word1) < len(word2):\n",
    "            toReturn += word2[len(word1):]\n",
    "        else:\n",
    "            toReturn += word1[len(word2):]\n",
    "        \n",
    "        return toReturn      "
   ]
  },
  {
   "cell_type": "markdown",
   "metadata": {},
   "source": [
    "### Roman to Integer"
   ]
  },
  {
   "cell_type": "code",
   "execution_count": null,
   "metadata": {},
   "outputs": [],
   "source": [
    "class Solution:\n",
    "    def romanToInt(self, s: str) -> int:\n",
    "        d = {'I': 1, 'V':5, 'X':10, 'L':50, 'C':100, 'D': 500, 'M': 1000}\n",
    "        to_Return = 0\n",
    "        n = len(s)\n",
    "        i = 0\n",
    "        \n",
    "        while i < n:\n",
    "            if (i < n - 1) and (d[s[i]] < d[s[i+1]]):\n",
    "                to_Return += d[s[i+1]] - d[s[i]]\n",
    "                i += 2\n",
    "            else:\n",
    "                to_Return += d[s[i]]\n",
    "                i += 1\n",
    "        return to_Return            "
   ]
  },
  {
   "cell_type": "markdown",
   "metadata": {},
   "source": [
    "### Is Subsequence"
   ]
  },
  {
   "cell_type": "code",
   "execution_count": null,
   "metadata": {},
   "outputs": [],
   "source": [
    "class Solution:\n",
    "    def isSubsequence(self, s: str, t: str) -> bool:\n",
    "        if len(s) > len(t):return False\n",
    "        if s == '': return True\n",
    "        \n",
    "        n = len(s)\n",
    "        i = 0\n",
    "\n",
    "        for c in t:\n",
    "            if i < n and c == s[i]:\n",
    "                i += 1\n",
    "\n",
    "        return i == n        "
   ]
  },
  {
   "cell_type": "markdown",
   "metadata": {},
   "source": [
    "### Best Time to Buy and Sell Stock"
   ]
  },
  {
   "cell_type": "code",
   "execution_count": null,
   "metadata": {},
   "outputs": [],
   "source": [
    "class Solution:\n",
    "    def maxProfit(self, prices: List[int]) -> int:\n",
    "        min_price = float('inf')\n",
    "        max_profit = 0\n",
    "\n",
    "        for price in prices:\n",
    "            if price < min_price:\n",
    "                min_price = price\n",
    "\n",
    "            profit = price - min_price \n",
    "\n",
    "            if profit > max_profit:\n",
    "                max_profit = profit\n",
    "\n",
    "        return max_profit            "
   ]
  },
  {
   "cell_type": "markdown",
   "metadata": {},
   "source": [
    "### Longest Common Prefix"
   ]
  },
  {
   "cell_type": "code",
   "execution_count": null,
   "metadata": {},
   "outputs": [],
   "source": [
    "class Solution:\n",
    "    def longestCommonPrefix(self, strs: List[str]) -> str:\n",
    "        len_min_str = float('inf')\n",
    "\n",
    "        for s in strs:\n",
    "            if len(s) < len_min_str:\n",
    "                len_min_str = len(s)\n",
    "\n",
    "        i = 0        \n",
    "        while i < len_min_str:\n",
    "            for s in strs:\n",
    "                if s[i] != strs[0][i]:\n",
    "                    return s[:i]\n",
    "            i += 1         \n",
    "\n",
    "        return strs[0][:i]                    "
   ]
  },
  {
   "cell_type": "markdown",
   "metadata": {},
   "source": [
    "### Summary Ranges"
   ]
  },
  {
   "cell_type": "code",
   "execution_count": null,
   "metadata": {},
   "outputs": [],
   "source": [
    "class Solution:\n",
    "    def summaryRanges(self, nums: List[int]) -> List[str]:\n",
    "        to_return = []\n",
    "        n = len(nums)\n",
    "        i = 0\n",
    "        \n",
    "        while i < n:\n",
    "            start = nums[i]\n",
    "\n",
    "            while i < n - 1 and nums[i+1] == nums[i] + 1:\n",
    "                i += 1   \n",
    "            \n",
    "            if start != nums[i]:\n",
    "                to_return.append(f\"{start}->{nums[i]}\")\n",
    "            else:\n",
    "                to_return.append(f\"{nums[i]}\")  \n",
    "\n",
    "            i += 1\n",
    "        return to_return"
   ]
  },
  {
   "cell_type": "markdown",
   "metadata": {},
   "source": [
    "### Product of Array Except Self"
   ]
  },
  {
   "cell_type": "code",
   "execution_count": null,
   "metadata": {},
   "outputs": [],
   "source": [
    "class Solution:\n",
    "    def productExceptSelf(self, nums: List[int]) -> List[int]:\n",
    "        n = len(nums)\n",
    "        prod1 = 1\n",
    "        prod2 = 1\n",
    "        prods1 = [0] * n\n",
    "        prods2 = [0] * n\n",
    "\n",
    "        for i in range(n):\n",
    "            prods1[i] = prod1\n",
    "            prod1 *= nums[i]\n",
    "\n",
    "            prods2[n-1-i] = prod2\n",
    "            prod2 *= nums[n-1-i]\n",
    "\n",
    "        return [prods1[i] * prods2[i] for i in range(n)]    "
   ]
  },
  {
   "cell_type": "markdown",
   "metadata": {},
   "source": [
    "### Merge Intervals"
   ]
  },
  {
   "cell_type": "code",
   "execution_count": null,
   "metadata": {},
   "outputs": [],
   "source": [
    "class Solution:\n",
    "    def merge(self, intervals: List[List[int]]) -> List[List[int]]:\n",
    "        merged = []\n",
    "        intervals.sort(key = lambda interval: interval[0])\n",
    "\n",
    "        for interval in intervals:\n",
    "            if not merged or merged[-1][1] < interval[0]:\n",
    "                merged.append(interval)\n",
    "            \n",
    "            else:\n",
    "                merged[-1][1] = max(merged[-1][1], interval[1])\n",
    "\n",
    "        return merged"
   ]
  },
  {
   "cell_type": "markdown",
   "metadata": {},
   "source": [
    "### Spiral Matrix"
   ]
  },
  {
   "cell_type": "code",
   "execution_count": null,
   "metadata": {},
   "outputs": [],
   "source": [
    "class Solution:\n",
    "    def spiralOrder(self, matrix: List[List[int]]) -> List[int]:\n",
    "        m = len(matrix)\n",
    "        n = len(matrix[0])\n",
    "\n",
    "        ans = []\n",
    "\n",
    "        i, j = 0, 0\n",
    "        UP, RIGHT, DOWN, LEFT = 0, 1, 2, 3\n",
    "        direction = RIGHT\n",
    "\n",
    "        UP_WALL = 1\n",
    "        RIGHT_WALL = n - 1\n",
    "        DOWN_WALL = m - 1\n",
    "        LEFT_WALL = 0\n",
    "\n",
    "        while len(ans) != m*n:\n",
    "            ans.append(matrix[i][j])\n",
    "\n",
    "            if direction == RIGHT:\n",
    "                if j != RIGHT_WALL:\n",
    "                    j += 1\n",
    "                else:\n",
    "                    RIGHT_WALL -= 1\n",
    "                    direction = DOWN\n",
    "                    i += 1\n",
    "            elif direction == DOWN:\n",
    "                if i != DOWN_WALL:\n",
    "                    i += 1\n",
    "                else:\n",
    "                    DOWN_WALL -= 1\n",
    "                    direction = LEFT\n",
    "                    j -= 1        \n",
    "            elif direction == LEFT:\n",
    "                if j != LEFT_WALL:\n",
    "                    j -= 1\n",
    "                else:\n",
    "                    LEFT_WALL += 1\n",
    "                    direction = UP \n",
    "                    i -= 1       \n",
    "            else:\n",
    "                if i != UP_WALL:\n",
    "                    i -= 1\n",
    "                else:\n",
    "                    UP_WALL += 1\n",
    "                    direction = RIGHT\n",
    "                    j += 1        \n",
    "        return ans"
   ]
  },
  {
   "cell_type": "markdown",
   "metadata": {},
   "source": [
    "### Rotate Image"
   ]
  },
  {
   "cell_type": "code",
   "execution_count": null,
   "metadata": {},
   "outputs": [],
   "source": [
    "class Solution:\n",
    "    def rotate(self, matrix: List[List[int]]) -> None:\n",
    "        \"\"\"\n",
    "        Do not return anything, modify matrix in-place instead.\n",
    "        \"\"\"\n",
    "        n = len(matrix)\n",
    "\n",
    "        # Transpose\n",
    "        for i in range(n):\n",
    "            for j in range(i+1, n):\n",
    "                matrix[i][j], matrix[j][i] = matrix[j][i], matrix[i][j]\n",
    "        \n",
    "        # Reflection\n",
    "        for i in range(n):\n",
    "            for j in range(n // 2):\n",
    "                matrix[i][j], matrix[i][n-j-1] = matrix[i][n-j-1], matrix[i][j]"
   ]
  }
 ],
 "metadata": {
  "kernelspec": {
   "display_name": "Python 3",
   "language": "python",
   "name": "python3"
  },
  "language_info": {
   "codemirror_mode": {
    "name": "ipython",
    "version": 3
   },
   "file_extension": ".py",
   "mimetype": "text/x-python",
   "name": "python",
   "nbconvert_exporter": "python",
   "pygments_lexer": "ipython3",
   "version": "3.12.9"
  }
 },
 "nbformat": 4,
 "nbformat_minor": 2
}
