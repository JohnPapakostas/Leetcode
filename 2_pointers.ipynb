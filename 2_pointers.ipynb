{
 "cells": [
  {
   "cell_type": "markdown",
   "metadata": {},
   "source": [
    "### SORTED SQUARES\n"
   ]
  },
  {
   "cell_type": "code",
   "execution_count": 1,
   "metadata": {},
   "outputs": [],
   "source": [
    "def sorted_squares(sorted_list):\n",
    "    start = 0\n",
    "    end = len(sorted_list) - 1\n",
    "\n",
    "    sorted_squares_list = [0] * len(sorted_list)\n",
    "\n",
    "    for i in range(len(sorted_list)-1, -1, -1):\n",
    "        if(abs(sorted_list[end]) >= abs(sorted_list[start])):\n",
    "            sorted_squares_list[i] = pow(sorted_list[end], 2)\n",
    "            end -= 1\n",
    "        else:\n",
    "            sorted_squares_list[i] = pow(sorted_list[start], 2)\n",
    "            start += 1\n",
    "            \n",
    "    return sorted_squares_list"
   ]
  },
  {
   "cell_type": "code",
   "execution_count": 3,
   "metadata": {},
   "outputs": [
    {
     "data": {
      "text/plain": [
       "[1, 4, 9, 9, 16, 25]"
      ]
     },
     "execution_count": 3,
     "metadata": {},
     "output_type": "execute_result"
    }
   ],
   "source": [
    "sorted_list = [-4, -3, 1, 2, 3, 5]\n",
    "sorted_squares(sorted_list=sorted_list)"
   ]
  },
  {
   "cell_type": "markdown",
   "metadata": {},
   "source": [
    "### REVERSE STRING"
   ]
  },
  {
   "cell_type": "code",
   "execution_count": 7,
   "metadata": {},
   "outputs": [],
   "source": [
    "def reverse_string(characters_list):\n",
    "    start = 0\n",
    "    end = len(characters_list) - 1\n",
    "\n",
    "    while start < end:\n",
    "        characters_list[start], characters_list[end] = characters_list[end], characters_list[start]\n",
    "\n",
    "        start += 1\n",
    "        end -= 1\n",
    "\n",
    "    return    "
   ]
  },
  {
   "cell_type": "code",
   "execution_count": 8,
   "metadata": {},
   "outputs": [
    {
     "data": {
      "text/plain": [
       "['w', 'o', 'l', 'l', 'e', 'y']"
      ]
     },
     "execution_count": 8,
     "metadata": {},
     "output_type": "execute_result"
    }
   ],
   "source": [
    "s = [\"y\", \"e\", \"l\", \"l\", \"o\", \"w\"]\n",
    "reverse_string(s)\n",
    "s"
   ]
  },
  {
   "cell_type": "markdown",
   "metadata": {},
   "source": [
    "### TWO SUM"
   ]
  },
  {
   "cell_type": "code",
   "execution_count": 14,
   "metadata": {},
   "outputs": [
    {
     "data": {
      "text/plain": [
       "[0, 3]"
      ]
     },
     "execution_count": 14,
     "metadata": {},
     "output_type": "execute_result"
    }
   ],
   "source": [
    "def two_sum(sorted_list, target):\n",
    "    start = 0\n",
    "    end = len(sorted_list) - 1\n",
    "\n",
    "    while start < end:\n",
    "        cur_sum = sorted_list[start] + sorted_list[end]  \n",
    "        if cur_sum < target:\n",
    "            start += 1\n",
    "        elif cur_sum > target:\n",
    "            end -= 1\n",
    "        else: \n",
    "            return [start + 1 , end + 1]    \n",
    "\n",
    "    print(\"None sum is accepted!\")\n",
    "    return None\n",
    "\n",
    "sorted_list = [-4, -3, 1, 2, 3, 5]\n",
    "target = -2\n",
    "two_sum(sorted_list=sorted_list, target=target)"
   ]
  },
  {
   "cell_type": "markdown",
   "metadata": {},
   "source": [
    "### VALID PALINDROME"
   ]
  },
  {
   "cell_type": "code",
   "execution_count": 23,
   "metadata": {},
   "outputs": [
    {
     "data": {
      "text/plain": [
       "True"
      ]
     },
     "execution_count": 23,
     "metadata": {},
     "output_type": "execute_result"
    }
   ],
   "source": [
    "def valid_palindromme(str):\n",
    "    str = str.lower()\n",
    "    start = 0\n",
    "    end = len(str) - 1\n",
    "\n",
    "    while start < end:\n",
    "        if not str[start].isalnum():\n",
    "            start += 1\n",
    "            continue\n",
    "        \n",
    "        if not str[end].isalnum():\n",
    "            end -= 1\n",
    "            continue\n",
    "        \n",
    "        if str[start] == str[end]:\n",
    "            start += 1\n",
    "            end -= 1\n",
    "        else: \n",
    "            return False   \n",
    "\n",
    "    return True\n",
    "\n",
    "str = \"A man, a plan, a canal: Panama\"\n",
    "valid_palindromme(str=str)\n",
    "\n"
   ]
  }
 ],
 "metadata": {
  "kernelspec": {
   "display_name": "Python 3",
   "language": "python",
   "name": "python3"
  },
  "language_info": {
   "codemirror_mode": {
    "name": "ipython",
    "version": 3
   },
   "file_extension": ".py",
   "mimetype": "text/x-python",
   "name": "python",
   "nbconvert_exporter": "python",
   "pygments_lexer": "ipython3",
   "version": "3.12.8"
  }
 },
 "nbformat": 4,
 "nbformat_minor": 2
}
