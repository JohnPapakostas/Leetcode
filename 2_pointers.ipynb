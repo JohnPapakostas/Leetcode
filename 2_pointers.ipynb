{
 "cells": [
  {
   "cell_type": "markdown",
   "metadata": {},
   "source": [
    "### Squares of a Sorted Array\n"
   ]
  },
  {
   "cell_type": "code",
   "execution_count": null,
   "metadata": {},
   "outputs": [],
   "source": [
    "class Solution:\n",
    "    def sortedSquares(self, nums: List[int]) -> List[int]:\n",
    "        n = len(nums)\n",
    "        l = 0\n",
    "        r = n - 1\n",
    "        i = n - 1\n",
    "        ans = [None] * (n)\n",
    "\n",
    "        while l <= r:\n",
    "            if abs(nums[l]) > abs(nums[r]):\n",
    "                ans[i] = nums[l]**2\n",
    "                l += 1\n",
    "            else:\n",
    "                ans[i] = nums[r]**2\n",
    "                r -= 1\n",
    "            i -= 1\n",
    "\n",
    "        return ans           "
   ]
  },
  {
   "cell_type": "markdown",
   "metadata": {},
   "source": [
    "### Reverse String"
   ]
  },
  {
   "cell_type": "code",
   "execution_count": null,
   "metadata": {},
   "outputs": [],
   "source": [
    "class Solution:\n",
    "    def reverseString(self, s: List[str]) -> None:\n",
    "        \"\"\"\n",
    "        Do not return anything, modify s in-place instead.\n",
    "        \"\"\"\n",
    "        l = 0\n",
    "        r = len(s) - 1\n",
    "\n",
    "        while l < r:\n",
    "            s[r], s[l] = s[l], s[r]\n",
    "            l += 1\n",
    "            r -= 1"
   ]
  },
  {
   "cell_type": "markdown",
   "metadata": {},
   "source": [
    "### Two Sum II - Input Array Is Sorted"
   ]
  },
  {
   "cell_type": "code",
   "execution_count": null,
   "metadata": {},
   "outputs": [
    {
     "data": {
      "text/plain": [
       "[0, 3]"
      ]
     },
     "execution_count": 14,
     "metadata": {},
     "output_type": "execute_result"
    }
   ],
   "source": [
    "class Solution:\n",
    "    def twoSum(self, numbers: List[int], target: int) -> List[int]:\n",
    "        l = 0\n",
    "        r = len(numbers) - 1\n",
    "\n",
    "        while l < r:\n",
    "            summ = numbers[l] + numbers[r]\n",
    "            \n",
    "            if summ == target:\n",
    "                return [l + 1, r + 1]\n",
    "            elif summ < target:\n",
    "                l += 1\n",
    "            else:\n",
    "                r -= 1        "
   ]
  },
  {
   "cell_type": "markdown",
   "metadata": {},
   "source": [
    "### Valid Palindrome"
   ]
  },
  {
   "cell_type": "code",
   "execution_count": null,
   "metadata": {},
   "outputs": [
    {
     "data": {
      "text/plain": [
       "True"
      ]
     },
     "execution_count": 23,
     "metadata": {},
     "output_type": "execute_result"
    }
   ],
   "source": [
    "class Solution(object):\n",
    "    def isPalindrome(self, s):\n",
    "        \"\"\"\n",
    "        :type s: s\n",
    "        :rtype: bool\n",
    "        \"\"\"\n",
    "        s = s.lower()\n",
    "        start = 0\n",
    "        end = len(s) - 1\n",
    "\n",
    "        while start < end:\n",
    "            if not s[start].isalnum():\n",
    "                start += 1\n",
    "                continue\n",
    "            \n",
    "            if not s[end].isalnum():\n",
    "                end -= 1\n",
    "                continue\n",
    "            \n",
    "            if s[start] == s[end]:\n",
    "                start += 1\n",
    "                end -= 1\n",
    "            else: \n",
    "                return False   \n",
    "\n",
    "        return True"
   ]
  },
  {
   "cell_type": "markdown",
   "metadata": {},
   "source": [
    "### 3Sum"
   ]
  },
  {
   "cell_type": "code",
   "execution_count": null,
   "metadata": {},
   "outputs": [],
   "source": [
    "class Solution:\n",
    "    def threeSum(self, nums: List[int]) -> List[List[int]]:\n",
    "        nums.sort()\n",
    "        n = len(nums)\n",
    "        ans = []\n",
    "\n",
    "        for i in range(n):\n",
    "            if nums[i] > 0:\n",
    "                break\n",
    "            elif i > 0 and nums[i] == nums[i-1]:\n",
    "                continue   \n",
    "            \n",
    "            l = i + 1\n",
    "            r = n - 1\n",
    "            while l < r:\n",
    "                summ = nums[i] + nums[l] + nums[r]\n",
    "                if summ == 0:\n",
    "                    ans.append([nums[i], nums[l], nums[r]]) \n",
    "                    \n",
    "                    l += 1\n",
    "                    while l < r and nums[l-1] == nums[l]:\n",
    "                        l += 1\n",
    "                    \n",
    "                    r -= 1\n",
    "                    while l < r and nums[r] == nums[r+1]:\n",
    "                        r -= 1    \n",
    "\n",
    "                elif summ < 0:\n",
    "                    l += 1\n",
    "                else:\n",
    "                    r -= 1\n",
    "\n",
    "        return ans                 "
   ]
  },
  {
   "cell_type": "markdown",
   "metadata": {},
   "source": [
    "### Container With Most Water"
   ]
  },
  {
   "cell_type": "code",
   "execution_count": null,
   "metadata": {},
   "outputs": [],
   "source": [
    "class Solution:\n",
    "    def maxArea(self, height: List[int]) -> int:\n",
    "        n = len(height)\n",
    "        l = 0\n",
    "        r = n - 1\n",
    "        max_area = 0\n",
    "\n",
    "        while l < r:\n",
    "            area = (r - l) * min(height[l], height[r])\n",
    "            max_area = max(area, max_area)\n",
    "            \n",
    "            if height[l] > height[r]:\n",
    "                r -= 1\n",
    "            else:\n",
    "                l += 1\n",
    "\n",
    "        return max_area "
   ]
  },
  {
   "cell_type": "markdown",
   "metadata": {},
   "source": [
    "### Trapping Rain Water"
   ]
  },
  {
   "cell_type": "code",
   "execution_count": null,
   "metadata": {},
   "outputs": [],
   "source": [
    "class Solution:\n",
    "    def trap(self, height: List[int]) -> int:\n",
    "        l_wall, r_wall = 0, 0\n",
    "        n = len(height)\n",
    "        max_left = [0] * n\n",
    "        max_right = [0] * n\n",
    "\n",
    "        for i in range(n):\n",
    "            j = -i -1\n",
    "            max_left[i] = l_wall\n",
    "            max_right[j] = r_wall\n",
    "            l_wall = max(l_wall, height[i])\n",
    "            r_wall = max(r_wall, height[j])\n",
    "        \n",
    "        summ = 0\n",
    "        for i in range(n):\n",
    "            pot = min(max_left[i], max_right[i])\n",
    "            summ += max(0, pot - height[i])\n",
    "\n",
    "        return summ"
   ]
  }
 ],
 "metadata": {
  "kernelspec": {
   "display_name": "Python 3",
   "language": "python",
   "name": "python3"
  },
  "language_info": {
   "codemirror_mode": {
    "name": "ipython",
    "version": 3
   },
   "file_extension": ".py",
   "mimetype": "text/x-python",
   "name": "python",
   "nbconvert_exporter": "python",
   "pygments_lexer": "ipython3",
   "version": "3.12.9"
  }
 },
 "nbformat": 4,
 "nbformat_minor": 2
}
